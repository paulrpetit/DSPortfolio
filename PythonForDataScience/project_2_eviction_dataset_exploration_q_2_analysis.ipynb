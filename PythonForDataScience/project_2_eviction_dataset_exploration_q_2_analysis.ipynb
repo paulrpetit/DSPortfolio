{
 "cells": [
  {
   "cell_type": "code",
   "execution_count": 1,
   "metadata": {},
   "outputs": [],
   "source": [
    "import pandas as pd\n",
    "import matplotlib.pyplot as plt"
   ]
  },
  {
   "cell_type": "code",
   "execution_count": 3,
   "metadata": {},
   "outputs": [
    {
     "name": "stderr",
     "output_type": "stream",
     "text": [
      "/anaconda3/lib/python3.7/site-packages/IPython/core/interactiveshell.py:2785: DtypeWarning: Columns (4) have mixed types. Specify dtype option on import or set low_memory=False.\n",
      "  interactivity=interactivity, compiler=compiler, result=result)\n"
     ]
    }
   ],
   "source": [
    "dfre1 = pd.DataFrame(pd.read_csv(\"RDC_InventoryCoreMetrics_Metro_Hist.csv\"))"
   ]
  },
  {
   "cell_type": "code",
   "execution_count": 4,
   "metadata": {},
   "outputs": [
    {
     "data": {
      "text/plain": [
       "(39001, 35)"
      ]
     },
     "execution_count": 4,
     "metadata": {},
     "output_type": "execute_result"
    }
   ],
   "source": [
    "dfre1.shape"
   ]
  },
  {
   "cell_type": "markdown",
   "metadata": {},
   "source": [
    "# EVICTION DATA (secondary data source)"
   ]
  },
  {
   "cell_type": "markdown",
   "metadata": {},
   "source": [
    "## E X P L O R A T I O N"
   ]
  },
  {
   "cell_type": "markdown",
   "metadata": {},
   "source": [
    "### Data Shape & Exploration"
   ]
  },
  {
   "cell_type": "code",
   "execution_count": 6,
   "metadata": {},
   "outputs": [],
   "source": [
    "dfe1 = pd.DataFrame(pd.read_csv(\"cities.csv\"))"
   ]
  },
  {
   "cell_type": "code",
   "execution_count": 7,
   "metadata": {},
   "outputs": [
    {
     "data": {
      "text/html": [
       "<div>\n",
       "<style scoped>\n",
       "    .dataframe tbody tr th:only-of-type {\n",
       "        vertical-align: middle;\n",
       "    }\n",
       "\n",
       "    .dataframe tbody tr th {\n",
       "        vertical-align: top;\n",
       "    }\n",
       "\n",
       "    .dataframe thead th {\n",
       "        text-align: right;\n",
       "    }\n",
       "</style>\n",
       "<table border=\"1\" class=\"dataframe\">\n",
       "  <thead>\n",
       "    <tr style=\"text-align: right;\">\n",
       "      <th></th>\n",
       "      <th>GEOID</th>\n",
       "      <th>year</th>\n",
       "      <th>name</th>\n",
       "      <th>parent-location</th>\n",
       "      <th>population</th>\n",
       "      <th>poverty-rate</th>\n",
       "      <th>renter-occupied-households</th>\n",
       "      <th>pct-renter-occupied</th>\n",
       "      <th>median-gross-rent</th>\n",
       "      <th>median-household-income</th>\n",
       "      <th>...</th>\n",
       "      <th>pct-nh-pi</th>\n",
       "      <th>pct-multiple</th>\n",
       "      <th>pct-other</th>\n",
       "      <th>eviction-filings</th>\n",
       "      <th>evictions</th>\n",
       "      <th>eviction-rate</th>\n",
       "      <th>eviction-filing-rate</th>\n",
       "      <th>low-flag</th>\n",
       "      <th>imputed</th>\n",
       "      <th>subbed</th>\n",
       "    </tr>\n",
       "  </thead>\n",
       "  <tbody>\n",
       "    <tr>\n",
       "      <th>502867</th>\n",
       "      <td>5686737</td>\n",
       "      <td>2012</td>\n",
       "      <td>Y-O Ranch</td>\n",
       "      <td>Wyoming</td>\n",
       "      <td>124.0</td>\n",
       "      <td>0.0</td>\n",
       "      <td>14.99</td>\n",
       "      <td>0.0</td>\n",
       "      <td>NaN</td>\n",
       "      <td>NaN</td>\n",
       "      <td>...</td>\n",
       "      <td>0.0</td>\n",
       "      <td>0.0</td>\n",
       "      <td>0.0</td>\n",
       "      <td>0.0</td>\n",
       "      <td>0.0</td>\n",
       "      <td>0.0</td>\n",
       "      <td>0.0</td>\n",
       "      <td>0</td>\n",
       "      <td>0</td>\n",
       "      <td>0</td>\n",
       "    </tr>\n",
       "    <tr>\n",
       "      <th>502868</th>\n",
       "      <td>5686737</td>\n",
       "      <td>2013</td>\n",
       "      <td>Y-O Ranch</td>\n",
       "      <td>Wyoming</td>\n",
       "      <td>124.0</td>\n",
       "      <td>0.0</td>\n",
       "      <td>15.49</td>\n",
       "      <td>0.0</td>\n",
       "      <td>NaN</td>\n",
       "      <td>NaN</td>\n",
       "      <td>...</td>\n",
       "      <td>0.0</td>\n",
       "      <td>0.0</td>\n",
       "      <td>0.0</td>\n",
       "      <td>0.0</td>\n",
       "      <td>0.0</td>\n",
       "      <td>0.0</td>\n",
       "      <td>0.0</td>\n",
       "      <td>0</td>\n",
       "      <td>0</td>\n",
       "      <td>0</td>\n",
       "    </tr>\n",
       "    <tr>\n",
       "      <th>502869</th>\n",
       "      <td>5686737</td>\n",
       "      <td>2014</td>\n",
       "      <td>Y-O Ranch</td>\n",
       "      <td>Wyoming</td>\n",
       "      <td>124.0</td>\n",
       "      <td>0.0</td>\n",
       "      <td>15.82</td>\n",
       "      <td>0.0</td>\n",
       "      <td>NaN</td>\n",
       "      <td>NaN</td>\n",
       "      <td>...</td>\n",
       "      <td>0.0</td>\n",
       "      <td>0.0</td>\n",
       "      <td>0.0</td>\n",
       "      <td>0.0</td>\n",
       "      <td>0.0</td>\n",
       "      <td>0.0</td>\n",
       "      <td>0.0</td>\n",
       "      <td>0</td>\n",
       "      <td>0</td>\n",
       "      <td>0</td>\n",
       "    </tr>\n",
       "    <tr>\n",
       "      <th>502870</th>\n",
       "      <td>5686737</td>\n",
       "      <td>2015</td>\n",
       "      <td>Y-O Ranch</td>\n",
       "      <td>Wyoming</td>\n",
       "      <td>124.0</td>\n",
       "      <td>0.0</td>\n",
       "      <td>16.15</td>\n",
       "      <td>0.0</td>\n",
       "      <td>NaN</td>\n",
       "      <td>NaN</td>\n",
       "      <td>...</td>\n",
       "      <td>0.0</td>\n",
       "      <td>0.0</td>\n",
       "      <td>0.0</td>\n",
       "      <td>0.0</td>\n",
       "      <td>0.0</td>\n",
       "      <td>0.0</td>\n",
       "      <td>0.0</td>\n",
       "      <td>0</td>\n",
       "      <td>0</td>\n",
       "      <td>0</td>\n",
       "    </tr>\n",
       "    <tr>\n",
       "      <th>502871</th>\n",
       "      <td>5686737</td>\n",
       "      <td>2016</td>\n",
       "      <td>Y-O Ranch</td>\n",
       "      <td>Wyoming</td>\n",
       "      <td>124.0</td>\n",
       "      <td>0.0</td>\n",
       "      <td>16.48</td>\n",
       "      <td>0.0</td>\n",
       "      <td>NaN</td>\n",
       "      <td>NaN</td>\n",
       "      <td>...</td>\n",
       "      <td>0.0</td>\n",
       "      <td>0.0</td>\n",
       "      <td>0.0</td>\n",
       "      <td>0.0</td>\n",
       "      <td>0.0</td>\n",
       "      <td>0.0</td>\n",
       "      <td>0.0</td>\n",
       "      <td>0</td>\n",
       "      <td>0</td>\n",
       "      <td>0</td>\n",
       "    </tr>\n",
       "  </tbody>\n",
       "</table>\n",
       "<p>5 rows × 27 columns</p>\n",
       "</div>"
      ],
      "text/plain": [
       "          GEOID  year       name parent-location  population  poverty-rate  \\\n",
       "502867  5686737  2012  Y-O Ranch         Wyoming       124.0           0.0   \n",
       "502868  5686737  2013  Y-O Ranch         Wyoming       124.0           0.0   \n",
       "502869  5686737  2014  Y-O Ranch         Wyoming       124.0           0.0   \n",
       "502870  5686737  2015  Y-O Ranch         Wyoming       124.0           0.0   \n",
       "502871  5686737  2016  Y-O Ranch         Wyoming       124.0           0.0   \n",
       "\n",
       "        renter-occupied-households  pct-renter-occupied  median-gross-rent  \\\n",
       "502867                       14.99                  0.0                NaN   \n",
       "502868                       15.49                  0.0                NaN   \n",
       "502869                       15.82                  0.0                NaN   \n",
       "502870                       16.15                  0.0                NaN   \n",
       "502871                       16.48                  0.0                NaN   \n",
       "\n",
       "        median-household-income   ...    pct-nh-pi  pct-multiple  pct-other  \\\n",
       "502867                      NaN   ...          0.0           0.0        0.0   \n",
       "502868                      NaN   ...          0.0           0.0        0.0   \n",
       "502869                      NaN   ...          0.0           0.0        0.0   \n",
       "502870                      NaN   ...          0.0           0.0        0.0   \n",
       "502871                      NaN   ...          0.0           0.0        0.0   \n",
       "\n",
       "        eviction-filings  evictions  eviction-rate  eviction-filing-rate  \\\n",
       "502867               0.0        0.0            0.0                   0.0   \n",
       "502868               0.0        0.0            0.0                   0.0   \n",
       "502869               0.0        0.0            0.0                   0.0   \n",
       "502870               0.0        0.0            0.0                   0.0   \n",
       "502871               0.0        0.0            0.0                   0.0   \n",
       "\n",
       "        low-flag  imputed  subbed  \n",
       "502867         0        0       0  \n",
       "502868         0        0       0  \n",
       "502869         0        0       0  \n",
       "502870         0        0       0  \n",
       "502871         0        0       0  \n",
       "\n",
       "[5 rows x 27 columns]"
      ]
     },
     "execution_count": 7,
     "metadata": {},
     "output_type": "execute_result"
    }
   ],
   "source": [
    "dfe1.tail()"
   ]
  },
  {
   "cell_type": "code",
   "execution_count": 8,
   "metadata": {},
   "outputs": [
    {
     "data": {
      "text/plain": [
       "(502872, 27)"
      ]
     },
     "execution_count": 8,
     "metadata": {},
     "output_type": "execute_result"
    }
   ],
   "source": [
    "dfe1.shape"
   ]
  },
  {
   "cell_type": "markdown",
   "metadata": {},
   "source": [
    "### What deos the metro area data series look like?"
   ]
  },
  {
   "cell_type": "code",
   "execution_count": 11,
   "metadata": {},
   "outputs": [
    {
     "data": {
      "text/plain": [
       "count          26160\n",
       "unique          1541\n",
       "top       San Miguel\n",
       "freq              34\n",
       "Name: name, dtype: object"
      ]
     },
     "execution_count": 11,
     "metadata": {},
     "output_type": "execute_result"
    }
   ],
   "source": [
    "dfe1.name.describe()"
   ]
  },
  {
   "cell_type": "markdown",
   "metadata": {},
   "source": [
    "### Check to see that states look as I'd expect"
   ]
  },
  {
   "cell_type": "code",
   "execution_count": 11,
   "metadata": {},
   "outputs": [
    {
     "data": {
      "text/plain": [
       "array(['Alabama', 'Alaska', 'Arizona', 'Arkansas', 'California',\n",
       "       'Colorado', 'Connecticut', 'Delaware', 'District of Columbia',\n",
       "       'Florida', 'Georgia', 'Hawaii', 'Idaho', 'Illinois', 'Indiana',\n",
       "       'Iowa', 'Kansas', 'Kentucky', 'Louisiana', 'Maine', 'Maryland',\n",
       "       'Massachusetts', 'Michigan', 'Minnesota', 'Mississippi',\n",
       "       'Missouri', 'Montana', 'Nebraska', 'Nevada', 'New Hampshire',\n",
       "       'New Jersey', 'New Mexico', 'New York', 'North Carolina',\n",
       "       'North Dakota', 'Ohio', 'Oklahoma', 'Oregon', 'Pennsylvania',\n",
       "       'Rhode Island', 'South Carolina', 'South Dakota', 'Tennessee',\n",
       "       'Texas', 'Utah', 'Vermont', 'Virginia', 'Washington',\n",
       "       'West Virginia', 'Wisconsin', 'Wyoming'], dtype=object)"
      ]
     },
     "execution_count": 11,
     "metadata": {},
     "output_type": "execute_result"
    }
   ],
   "source": [
    "# dfe1['parent-location'].describe()\n",
    "dfe1['parent-location'].unique()"
   ]
  },
  {
   "cell_type": "markdown",
   "metadata": {},
   "source": [
    "### All columns"
   ]
  },
  {
   "cell_type": "code",
   "execution_count": 26,
   "metadata": {},
   "outputs": [
    {
     "data": {
      "text/plain": [
       "['GEOID',\n",
       " 'year',\n",
       " 'name',\n",
       " 'parent-location',\n",
       " 'population',\n",
       " 'poverty-rate',\n",
       " 'renter-occupied-households',\n",
       " 'pct-renter-occupied',\n",
       " 'median-gross-rent',\n",
       " 'median-household-income',\n",
       " 'median-property-value',\n",
       " 'rent-burden',\n",
       " 'pct-white',\n",
       " 'pct-af-am',\n",
       " 'pct-hispanic',\n",
       " 'pct-am-ind',\n",
       " 'pct-asian',\n",
       " 'pct-nh-pi',\n",
       " 'pct-multiple',\n",
       " 'pct-other',\n",
       " 'eviction-filings',\n",
       " 'evictions',\n",
       " 'eviction-rate',\n",
       " 'eviction-filing-rate',\n",
       " 'low-flag',\n",
       " 'imputed',\n",
       " 'subbed']"
      ]
     },
     "execution_count": 26,
     "metadata": {},
     "output_type": "execute_result"
    }
   ],
   "source": [
    "list(dfe1.columns.values)"
   ]
  },
  {
   "cell_type": "markdown",
   "metadata": {},
   "source": [
    "### Take a closer look at median household income series"
   ]
  },
  {
   "cell_type": "code",
   "execution_count": 27,
   "metadata": {},
   "outputs": [
    {
     "data": {
      "text/plain": [
       "count    443172.000000\n",
       "mean      46619.499294\n",
       "std       23966.419786\n",
       "min           0.000000\n",
       "25%       31723.000000\n",
       "50%       41000.000000\n",
       "75%       54275.000000\n",
       "max      250001.000000\n",
       "Name: median-household-income, dtype: float64"
      ]
     },
     "execution_count": 27,
     "metadata": {},
     "output_type": "execute_result"
    }
   ],
   "source": [
    "dfe1['median-household-income'].describe()"
   ]
  },
  {
   "cell_type": "markdown",
   "metadata": {},
   "source": [
    "### Filter dataframe down to explore metro area names, populations, years, median gross rent, and eviction filings"
   ]
  },
  {
   "cell_type": "code",
   "execution_count": 376,
   "metadata": {},
   "outputs": [
    {
     "data": {
      "text/html": [
       "<div>\n",
       "<style scoped>\n",
       "    .dataframe tbody tr th:only-of-type {\n",
       "        vertical-align: middle;\n",
       "    }\n",
       "\n",
       "    .dataframe tbody tr th {\n",
       "        vertical-align: top;\n",
       "    }\n",
       "\n",
       "    .dataframe thead th {\n",
       "        text-align: right;\n",
       "    }\n",
       "</style>\n",
       "<table border=\"1\" class=\"dataframe\">\n",
       "  <thead>\n",
       "    <tr style=\"text-align: right;\">\n",
       "      <th></th>\n",
       "      <th>year</th>\n",
       "      <th>name</th>\n",
       "      <th>parent-location</th>\n",
       "      <th>population</th>\n",
       "      <th>median-gross-rent</th>\n",
       "      <th>eviction-filings</th>\n",
       "    </tr>\n",
       "  </thead>\n",
       "  <tbody>\n",
       "    <tr>\n",
       "      <th>49656</th>\n",
       "      <td>2000</td>\n",
       "      <td>Oakland</td>\n",
       "      <td>California</td>\n",
       "      <td>399484.0</td>\n",
       "      <td>696.0</td>\n",
       "      <td>1949.96</td>\n",
       "    </tr>\n",
       "    <tr>\n",
       "      <th>49657</th>\n",
       "      <td>2001</td>\n",
       "      <td>Oakland</td>\n",
       "      <td>California</td>\n",
       "      <td>399484.0</td>\n",
       "      <td>696.0</td>\n",
       "      <td>2161.96</td>\n",
       "    </tr>\n",
       "    <tr>\n",
       "      <th>49658</th>\n",
       "      <td>2002</td>\n",
       "      <td>Oakland</td>\n",
       "      <td>California</td>\n",
       "      <td>399484.0</td>\n",
       "      <td>696.0</td>\n",
       "      <td>2076.94</td>\n",
       "    </tr>\n",
       "    <tr>\n",
       "      <th>49659</th>\n",
       "      <td>2003</td>\n",
       "      <td>Oakland</td>\n",
       "      <td>California</td>\n",
       "      <td>399484.0</td>\n",
       "      <td>696.0</td>\n",
       "      <td>1895.97</td>\n",
       "    </tr>\n",
       "    <tr>\n",
       "      <th>49660</th>\n",
       "      <td>2004</td>\n",
       "      <td>Oakland</td>\n",
       "      <td>California</td>\n",
       "      <td>399484.0</td>\n",
       "      <td>696.0</td>\n",
       "      <td>1667.00</td>\n",
       "    </tr>\n",
       "    <tr>\n",
       "      <th>49661</th>\n",
       "      <td>2005</td>\n",
       "      <td>Oakland</td>\n",
       "      <td>California</td>\n",
       "      <td>398793.0</td>\n",
       "      <td>992.0</td>\n",
       "      <td>1594.96</td>\n",
       "    </tr>\n",
       "    <tr>\n",
       "      <th>49662</th>\n",
       "      <td>2006</td>\n",
       "      <td>Oakland</td>\n",
       "      <td>California</td>\n",
       "      <td>398793.0</td>\n",
       "      <td>992.0</td>\n",
       "      <td>1740.99</td>\n",
       "    </tr>\n",
       "    <tr>\n",
       "      <th>49663</th>\n",
       "      <td>2007</td>\n",
       "      <td>Oakland</td>\n",
       "      <td>California</td>\n",
       "      <td>398793.0</td>\n",
       "      <td>992.0</td>\n",
       "      <td>2100.95</td>\n",
       "    </tr>\n",
       "    <tr>\n",
       "      <th>49664</th>\n",
       "      <td>2008</td>\n",
       "      <td>Oakland</td>\n",
       "      <td>California</td>\n",
       "      <td>398793.0</td>\n",
       "      <td>992.0</td>\n",
       "      <td>2578.89</td>\n",
       "    </tr>\n",
       "    <tr>\n",
       "      <th>49665</th>\n",
       "      <td>2009</td>\n",
       "      <td>Oakland</td>\n",
       "      <td>California</td>\n",
       "      <td>398793.0</td>\n",
       "      <td>992.0</td>\n",
       "      <td>2349.96</td>\n",
       "    </tr>\n",
       "    <tr>\n",
       "      <th>49666</th>\n",
       "      <td>2010</td>\n",
       "      <td>Oakland</td>\n",
       "      <td>California</td>\n",
       "      <td>390724.0</td>\n",
       "      <td>1078.0</td>\n",
       "      <td>2014.96</td>\n",
       "    </tr>\n",
       "    <tr>\n",
       "      <th>49667</th>\n",
       "      <td>2011</td>\n",
       "      <td>Oakland</td>\n",
       "      <td>California</td>\n",
       "      <td>408073.0</td>\n",
       "      <td>1144.0</td>\n",
       "      <td>1736.98</td>\n",
       "    </tr>\n",
       "    <tr>\n",
       "      <th>49668</th>\n",
       "      <td>2012</td>\n",
       "      <td>Oakland</td>\n",
       "      <td>California</td>\n",
       "      <td>408073.0</td>\n",
       "      <td>1144.0</td>\n",
       "      <td>1658.96</td>\n",
       "    </tr>\n",
       "    <tr>\n",
       "      <th>49669</th>\n",
       "      <td>2013</td>\n",
       "      <td>Oakland</td>\n",
       "      <td>California</td>\n",
       "      <td>408073.0</td>\n",
       "      <td>1144.0</td>\n",
       "      <td>1736.97</td>\n",
       "    </tr>\n",
       "    <tr>\n",
       "      <th>49670</th>\n",
       "      <td>2014</td>\n",
       "      <td>Oakland</td>\n",
       "      <td>California</td>\n",
       "      <td>408073.0</td>\n",
       "      <td>1144.0</td>\n",
       "      <td>1209.96</td>\n",
       "    </tr>\n",
       "    <tr>\n",
       "      <th>49671</th>\n",
       "      <td>2015</td>\n",
       "      <td>Oakland</td>\n",
       "      <td>California</td>\n",
       "      <td>408073.0</td>\n",
       "      <td>1144.0</td>\n",
       "      <td>1403.95</td>\n",
       "    </tr>\n",
       "    <tr>\n",
       "      <th>49672</th>\n",
       "      <td>2016</td>\n",
       "      <td>Oakland</td>\n",
       "      <td>California</td>\n",
       "      <td>408073.0</td>\n",
       "      <td>1144.0</td>\n",
       "      <td>1338.96</td>\n",
       "    </tr>\n",
       "    <tr>\n",
       "      <th>80832</th>\n",
       "      <td>2000</td>\n",
       "      <td>Oakland</td>\n",
       "      <td>Florida</td>\n",
       "      <td>936.0</td>\n",
       "      <td>450.0</td>\n",
       "      <td>6.15</td>\n",
       "    </tr>\n",
       "    <tr>\n",
       "      <th>80833</th>\n",
       "      <td>2001</td>\n",
       "      <td>Oakland</td>\n",
       "      <td>Florida</td>\n",
       "      <td>936.0</td>\n",
       "      <td>450.0</td>\n",
       "      <td>6.42</td>\n",
       "    </tr>\n",
       "    <tr>\n",
       "      <th>80834</th>\n",
       "      <td>2002</td>\n",
       "      <td>Oakland</td>\n",
       "      <td>Florida</td>\n",
       "      <td>936.0</td>\n",
       "      <td>450.0</td>\n",
       "      <td>7.64</td>\n",
       "    </tr>\n",
       "    <tr>\n",
       "      <th>80835</th>\n",
       "      <td>2003</td>\n",
       "      <td>Oakland</td>\n",
       "      <td>Florida</td>\n",
       "      <td>936.0</td>\n",
       "      <td>450.0</td>\n",
       "      <td>9.56</td>\n",
       "    </tr>\n",
       "    <tr>\n",
       "      <th>80836</th>\n",
       "      <td>2004</td>\n",
       "      <td>Oakland</td>\n",
       "      <td>Florida</td>\n",
       "      <td>936.0</td>\n",
       "      <td>450.0</td>\n",
       "      <td>5.58</td>\n",
       "    </tr>\n",
       "    <tr>\n",
       "      <th>80837</th>\n",
       "      <td>2005</td>\n",
       "      <td>Oakland</td>\n",
       "      <td>Florida</td>\n",
       "      <td>2111.0</td>\n",
       "      <td>1200.0</td>\n",
       "      <td>7.28</td>\n",
       "    </tr>\n",
       "    <tr>\n",
       "      <th>80838</th>\n",
       "      <td>2006</td>\n",
       "      <td>Oakland</td>\n",
       "      <td>Florida</td>\n",
       "      <td>2111.0</td>\n",
       "      <td>1200.0</td>\n",
       "      <td>5.64</td>\n",
       "    </tr>\n",
       "    <tr>\n",
       "      <th>80839</th>\n",
       "      <td>2007</td>\n",
       "      <td>Oakland</td>\n",
       "      <td>Florida</td>\n",
       "      <td>2111.0</td>\n",
       "      <td>1200.0</td>\n",
       "      <td>12.49</td>\n",
       "    </tr>\n",
       "    <tr>\n",
       "      <th>80840</th>\n",
       "      <td>2008</td>\n",
       "      <td>Oakland</td>\n",
       "      <td>Florida</td>\n",
       "      <td>2111.0</td>\n",
       "      <td>1200.0</td>\n",
       "      <td>6.38</td>\n",
       "    </tr>\n",
       "    <tr>\n",
       "      <th>80841</th>\n",
       "      <td>2009</td>\n",
       "      <td>Oakland</td>\n",
       "      <td>Florida</td>\n",
       "      <td>2111.0</td>\n",
       "      <td>1200.0</td>\n",
       "      <td>3.71</td>\n",
       "    </tr>\n",
       "    <tr>\n",
       "      <th>80842</th>\n",
       "      <td>2010</td>\n",
       "      <td>Oakland</td>\n",
       "      <td>Florida</td>\n",
       "      <td>2538.0</td>\n",
       "      <td>1301.0</td>\n",
       "      <td>5.64</td>\n",
       "    </tr>\n",
       "    <tr>\n",
       "      <th>80843</th>\n",
       "      <td>2011</td>\n",
       "      <td>Oakland</td>\n",
       "      <td>Florida</td>\n",
       "      <td>2721.0</td>\n",
       "      <td>1567.0</td>\n",
       "      <td>5.75</td>\n",
       "    </tr>\n",
       "    <tr>\n",
       "      <th>80844</th>\n",
       "      <td>2012</td>\n",
       "      <td>Oakland</td>\n",
       "      <td>Florida</td>\n",
       "      <td>2721.0</td>\n",
       "      <td>1567.0</td>\n",
       "      <td>7.86</td>\n",
       "    </tr>\n",
       "    <tr>\n",
       "      <th>80845</th>\n",
       "      <td>2013</td>\n",
       "      <td>Oakland</td>\n",
       "      <td>Florida</td>\n",
       "      <td>2721.0</td>\n",
       "      <td>1567.0</td>\n",
       "      <td>8.61</td>\n",
       "    </tr>\n",
       "    <tr>\n",
       "      <th>80846</th>\n",
       "      <td>2014</td>\n",
       "      <td>Oakland</td>\n",
       "      <td>Florida</td>\n",
       "      <td>2721.0</td>\n",
       "      <td>1567.0</td>\n",
       "      <td>7.06</td>\n",
       "    </tr>\n",
       "    <tr>\n",
       "      <th>80847</th>\n",
       "      <td>2015</td>\n",
       "      <td>Oakland</td>\n",
       "      <td>Florida</td>\n",
       "      <td>2721.0</td>\n",
       "      <td>1567.0</td>\n",
       "      <td>16.34</td>\n",
       "    </tr>\n",
       "    <tr>\n",
       "      <th>80848</th>\n",
       "      <td>2016</td>\n",
       "      <td>Oakland</td>\n",
       "      <td>Florida</td>\n",
       "      <td>2721.0</td>\n",
       "      <td>1567.0</td>\n",
       "      <td>18.48</td>\n",
       "    </tr>\n",
       "    <tr>\n",
       "      <th>119529</th>\n",
       "      <td>2000</td>\n",
       "      <td>Oakland</td>\n",
       "      <td>Illinois</td>\n",
       "      <td>996.0</td>\n",
       "      <td>389.0</td>\n",
       "      <td>0.23</td>\n",
       "    </tr>\n",
       "    <tr>\n",
       "      <th>119530</th>\n",
       "      <td>2001</td>\n",
       "      <td>Oakland</td>\n",
       "      <td>Illinois</td>\n",
       "      <td>996.0</td>\n",
       "      <td>389.0</td>\n",
       "      <td>0.99</td>\n",
       "    </tr>\n",
       "    <tr>\n",
       "      <th>119531</th>\n",
       "      <td>2002</td>\n",
       "      <td>Oakland</td>\n",
       "      <td>Illinois</td>\n",
       "      <td>996.0</td>\n",
       "      <td>389.0</td>\n",
       "      <td>0.99</td>\n",
       "    </tr>\n",
       "    <tr>\n",
       "      <th>119532</th>\n",
       "      <td>2003</td>\n",
       "      <td>Oakland</td>\n",
       "      <td>Illinois</td>\n",
       "      <td>996.0</td>\n",
       "      <td>389.0</td>\n",
       "      <td>1.23</td>\n",
       "    </tr>\n",
       "    <tr>\n",
       "      <th>119533</th>\n",
       "      <td>2004</td>\n",
       "      <td>Oakland</td>\n",
       "      <td>Illinois</td>\n",
       "      <td>996.0</td>\n",
       "      <td>389.0</td>\n",
       "      <td>0.00</td>\n",
       "    </tr>\n",
       "    <tr>\n",
       "      <th>119534</th>\n",
       "      <td>2005</td>\n",
       "      <td>Oakland</td>\n",
       "      <td>Illinois</td>\n",
       "      <td>1056.0</td>\n",
       "      <td>533.0</td>\n",
       "      <td>0.47</td>\n",
       "    </tr>\n",
       "    <tr>\n",
       "      <th>119535</th>\n",
       "      <td>2006</td>\n",
       "      <td>Oakland</td>\n",
       "      <td>Illinois</td>\n",
       "      <td>1056.0</td>\n",
       "      <td>533.0</td>\n",
       "      <td>2.22</td>\n",
       "    </tr>\n",
       "    <tr>\n",
       "      <th>119536</th>\n",
       "      <td>2007</td>\n",
       "      <td>Oakland</td>\n",
       "      <td>Illinois</td>\n",
       "      <td>1056.0</td>\n",
       "      <td>533.0</td>\n",
       "      <td>2.22</td>\n",
       "    </tr>\n",
       "    <tr>\n",
       "      <th>119537</th>\n",
       "      <td>2008</td>\n",
       "      <td>Oakland</td>\n",
       "      <td>Illinois</td>\n",
       "      <td>1056.0</td>\n",
       "      <td>533.0</td>\n",
       "      <td>0.99</td>\n",
       "    </tr>\n",
       "    <tr>\n",
       "      <th>119538</th>\n",
       "      <td>2009</td>\n",
       "      <td>Oakland</td>\n",
       "      <td>Illinois</td>\n",
       "      <td>1056.0</td>\n",
       "      <td>533.0</td>\n",
       "      <td>0.23</td>\n",
       "    </tr>\n",
       "    <tr>\n",
       "      <th>119539</th>\n",
       "      <td>2010</td>\n",
       "      <td>Oakland</td>\n",
       "      <td>Illinois</td>\n",
       "      <td>880.0</td>\n",
       "      <td>536.0</td>\n",
       "      <td>1.23</td>\n",
       "    </tr>\n",
       "    <tr>\n",
       "      <th>119540</th>\n",
       "      <td>2011</td>\n",
       "      <td>Oakland</td>\n",
       "      <td>Illinois</td>\n",
       "      <td>910.0</td>\n",
       "      <td>541.0</td>\n",
       "      <td>1.46</td>\n",
       "    </tr>\n",
       "    <tr>\n",
       "      <th>119541</th>\n",
       "      <td>2012</td>\n",
       "      <td>Oakland</td>\n",
       "      <td>Illinois</td>\n",
       "      <td>910.0</td>\n",
       "      <td>541.0</td>\n",
       "      <td>3.97</td>\n",
       "    </tr>\n",
       "    <tr>\n",
       "      <th>119542</th>\n",
       "      <td>2013</td>\n",
       "      <td>Oakland</td>\n",
       "      <td>Illinois</td>\n",
       "      <td>910.0</td>\n",
       "      <td>541.0</td>\n",
       "      <td>0.00</td>\n",
       "    </tr>\n",
       "    <tr>\n",
       "      <th>119543</th>\n",
       "      <td>2014</td>\n",
       "      <td>Oakland</td>\n",
       "      <td>Illinois</td>\n",
       "      <td>910.0</td>\n",
       "      <td>541.0</td>\n",
       "      <td>0.23</td>\n",
       "    </tr>\n",
       "    <tr>\n",
       "      <th>119544</th>\n",
       "      <td>2015</td>\n",
       "      <td>Oakland</td>\n",
       "      <td>Illinois</td>\n",
       "      <td>910.0</td>\n",
       "      <td>541.0</td>\n",
       "      <td>0.00</td>\n",
       "    </tr>\n",
       "  </tbody>\n",
       "</table>\n",
       "</div>"
      ],
      "text/plain": [
       "        year     name parent-location  population  median-gross-rent  \\\n",
       "49656   2000  Oakland      California    399484.0              696.0   \n",
       "49657   2001  Oakland      California    399484.0              696.0   \n",
       "49658   2002  Oakland      California    399484.0              696.0   \n",
       "49659   2003  Oakland      California    399484.0              696.0   \n",
       "49660   2004  Oakland      California    399484.0              696.0   \n",
       "49661   2005  Oakland      California    398793.0              992.0   \n",
       "49662   2006  Oakland      California    398793.0              992.0   \n",
       "49663   2007  Oakland      California    398793.0              992.0   \n",
       "49664   2008  Oakland      California    398793.0              992.0   \n",
       "49665   2009  Oakland      California    398793.0              992.0   \n",
       "49666   2010  Oakland      California    390724.0             1078.0   \n",
       "49667   2011  Oakland      California    408073.0             1144.0   \n",
       "49668   2012  Oakland      California    408073.0             1144.0   \n",
       "49669   2013  Oakland      California    408073.0             1144.0   \n",
       "49670   2014  Oakland      California    408073.0             1144.0   \n",
       "49671   2015  Oakland      California    408073.0             1144.0   \n",
       "49672   2016  Oakland      California    408073.0             1144.0   \n",
       "80832   2000  Oakland         Florida       936.0              450.0   \n",
       "80833   2001  Oakland         Florida       936.0              450.0   \n",
       "80834   2002  Oakland         Florida       936.0              450.0   \n",
       "80835   2003  Oakland         Florida       936.0              450.0   \n",
       "80836   2004  Oakland         Florida       936.0              450.0   \n",
       "80837   2005  Oakland         Florida      2111.0             1200.0   \n",
       "80838   2006  Oakland         Florida      2111.0             1200.0   \n",
       "80839   2007  Oakland         Florida      2111.0             1200.0   \n",
       "80840   2008  Oakland         Florida      2111.0             1200.0   \n",
       "80841   2009  Oakland         Florida      2111.0             1200.0   \n",
       "80842   2010  Oakland         Florida      2538.0             1301.0   \n",
       "80843   2011  Oakland         Florida      2721.0             1567.0   \n",
       "80844   2012  Oakland         Florida      2721.0             1567.0   \n",
       "80845   2013  Oakland         Florida      2721.0             1567.0   \n",
       "80846   2014  Oakland         Florida      2721.0             1567.0   \n",
       "80847   2015  Oakland         Florida      2721.0             1567.0   \n",
       "80848   2016  Oakland         Florida      2721.0             1567.0   \n",
       "119529  2000  Oakland        Illinois       996.0              389.0   \n",
       "119530  2001  Oakland        Illinois       996.0              389.0   \n",
       "119531  2002  Oakland        Illinois       996.0              389.0   \n",
       "119532  2003  Oakland        Illinois       996.0              389.0   \n",
       "119533  2004  Oakland        Illinois       996.0              389.0   \n",
       "119534  2005  Oakland        Illinois      1056.0              533.0   \n",
       "119535  2006  Oakland        Illinois      1056.0              533.0   \n",
       "119536  2007  Oakland        Illinois      1056.0              533.0   \n",
       "119537  2008  Oakland        Illinois      1056.0              533.0   \n",
       "119538  2009  Oakland        Illinois      1056.0              533.0   \n",
       "119539  2010  Oakland        Illinois       880.0              536.0   \n",
       "119540  2011  Oakland        Illinois       910.0              541.0   \n",
       "119541  2012  Oakland        Illinois       910.0              541.0   \n",
       "119542  2013  Oakland        Illinois       910.0              541.0   \n",
       "119543  2014  Oakland        Illinois       910.0              541.0   \n",
       "119544  2015  Oakland        Illinois       910.0              541.0   \n",
       "\n",
       "        eviction-filings  \n",
       "49656            1949.96  \n",
       "49657            2161.96  \n",
       "49658            2076.94  \n",
       "49659            1895.97  \n",
       "49660            1667.00  \n",
       "49661            1594.96  \n",
       "49662            1740.99  \n",
       "49663            2100.95  \n",
       "49664            2578.89  \n",
       "49665            2349.96  \n",
       "49666            2014.96  \n",
       "49667            1736.98  \n",
       "49668            1658.96  \n",
       "49669            1736.97  \n",
       "49670            1209.96  \n",
       "49671            1403.95  \n",
       "49672            1338.96  \n",
       "80832               6.15  \n",
       "80833               6.42  \n",
       "80834               7.64  \n",
       "80835               9.56  \n",
       "80836               5.58  \n",
       "80837               7.28  \n",
       "80838               5.64  \n",
       "80839              12.49  \n",
       "80840               6.38  \n",
       "80841               3.71  \n",
       "80842               5.64  \n",
       "80843               5.75  \n",
       "80844               7.86  \n",
       "80845               8.61  \n",
       "80846               7.06  \n",
       "80847              16.34  \n",
       "80848              18.48  \n",
       "119529              0.23  \n",
       "119530              0.99  \n",
       "119531              0.99  \n",
       "119532              1.23  \n",
       "119533              0.00  \n",
       "119534              0.47  \n",
       "119535              2.22  \n",
       "119536              2.22  \n",
       "119537              0.99  \n",
       "119538              0.23  \n",
       "119539              1.23  \n",
       "119540              1.46  \n",
       "119541              3.97  \n",
       "119542              0.00  \n",
       "119543              0.23  \n",
       "119544              0.00  "
      ]
     },
     "execution_count": 376,
     "metadata": {},
     "output_type": "execute_result"
    }
   ],
   "source": [
    "dfe2 = dfe1[['year', 'name', 'parent-location', 'population', 'median-gross-rent', 'eviction-filings', ]]\n",
    "dfe3 = dfe2[dfe2.name == 'Oakland'].head(50)\n",
    "dfe3"
   ]
  },
  {
   "cell_type": "markdown",
   "metadata": {},
   "source": [
    "### Plot median gross rent and eviction filings in a scatter plot"
   ]
  },
  {
   "cell_type": "code",
   "execution_count": 120,
   "metadata": {},
   "outputs": [
    {
     "data": {
      "image/png": "[encoded data removed]",
      "text/plain": [
       "<Figure size 432x288 with 1 Axes>"
      ]
     },
     "metadata": {
      "needs_background": "light"
     },
     "output_type": "display_data"
    }
   ],
   "source": [
    "# dfe2_plt = plt.scatter('median-gross-rent', 'eviction-filings', data=dfe2)\n",
    "dfe2_plt = dfe2.plot.scatter(x='median-gross-rent', y='eviction-filings')"
   ]
  },
  {
   "cell_type": "markdown",
   "metadata": {},
   "source": [
    "## A N A L Y S I S"
   ]
  },
  {
   "cell_type": "markdown",
   "metadata": {},
   "source": [
    "### Question 2: How does eviction rate change with cost of rent?"
   ]
  },
  {
   "cell_type": "markdown",
   "metadata": {},
   "source": [
    "### Hypothesis: When cost of rent changes, eviction rate changes proportionately in the same direction. "
   ]
  },
  {
   "cell_type": "code",
   "execution_count": 14,
   "metadata": {},
   "outputs": [
    {
     "name": "stderr",
     "output_type": "stream",
     "text": [
      "/anaconda3/lib/python3.7/site-packages/ipykernel_launcher.py:12: SettingWithCopyWarning: \n",
      "A value is trying to be set on a copy of a slice from a DataFrame.\n",
      "Try using .loc[row_indexer,col_indexer] = value instead\n",
      "\n",
      "See the caveats in the documentation: http://pandas.pydata.org/pandas-docs/stable/indexing.html#indexing-view-versus-copy\n",
      "  if sys.path[0] == '':\n",
      "/anaconda3/lib/python3.7/site-packages/ipykernel_launcher.py:13: SettingWithCopyWarning: \n",
      "A value is trying to be set on a copy of a slice from a DataFrame.\n",
      "Try using .loc[row_indexer,col_indexer] = value instead\n",
      "\n",
      "See the caveats in the documentation: http://pandas.pydata.org/pandas-docs/stable/indexing.html#indexing-view-versus-copy\n",
      "  del sys.path[0]\n",
      "/anaconda3/lib/python3.7/site-packages/ipykernel_launcher.py:14: SettingWithCopyWarning: \n",
      "A value is trying to be set on a copy of a slice from a DataFrame.\n",
      "Try using .loc[row_indexer,col_indexer] = value instead\n",
      "\n",
      "See the caveats in the documentation: http://pandas.pydata.org/pandas-docs/stable/indexing.html#indexing-view-versus-copy\n",
      "  \n"
     ]
    },
    {
     "data": {
      "text/plain": [
       "Text(0.5,1,'Eviction Rate % Change YoY vs. Median Gross Rent % Change YoY, 2009-2011')"
      ]
     },
     "execution_count": 14,
     "metadata": {},
     "output_type": "execute_result"
    },
    {
     "data": {
      "image/png": "[encoded data removed]",
      "text/plain": [
       "<Figure size 576x576 with 1 Axes>"
      ]
     },
     "metadata": {
      "needs_background": "light"
     },
     "output_type": "display_data"
    }
   ],
   "source": [
    "# Create another filtered dataframe with just the columns of interest\n",
    "dfe3 = dfe1[['year', 'name', 'parent-location', 'population', 'median-household-income','median-gross-rent', 'eviction-rate']]\n",
    "# dfe3\n",
    "\n",
    "# Create another filtered dataframe with rows filtered to exclude areas with missing population data and population less than 100000\n",
    "dfe4 = dfe3[(pd.notnull(dfe3['population'])) & (dfe3['population'] >= 100000)]\n",
    "# dfe4.head(10)\n",
    "\n",
    "# Create new datframe filtered for just 2009, 2010, and 2011, the years across which we can look at YoY ∆s for variables of interest\n",
    "# Add two series to the dataframe that look at the % change YoY for median gross rent, eviction rate, and median household income\n",
    "dfe5 = dfe4[(dfe4.year == 2009) | (dfe4.year == 2010) | (dfe4.year == 2011)]\n",
    "dfe5['%-∆-median-gross-rent-YoY'] = dfe5['median-gross-rent'].pct_change() * 100\n",
    "dfe5['%-∆-eviction-rate-YoY'] = dfe5['eviction-rate'].pct_change() * 100\n",
    "dfe5['%-∆-median-household-income-YoY'] = dfe5['median-household-income'].pct_change() * 100\n",
    "\n",
    "# Create a new dataframe that filters out 2009 data now as we're only concerned with ∆s YoY and 2009 data is meaningless\n",
    "# Rid the dataset of cases in which the eviction rate YoY > 100% (outliers)\n",
    "dfe6 = dfe5.loc[(dfe5.year > 2009) & (dfe5['%-∆-eviction-rate-YoY'] <= 100), :]\n",
    "\n",
    "# Plot the data in a scatter plot\n",
    "dfe6.plot.scatter(x='%-∆-median-gross-rent-YoY', y='%-∆-eviction-rate-YoY', grid=True, figsize=(8,8))\n",
    "plt.title('Eviction Rate % Change YoY vs. Median Gross Rent % Change YoY, 2009-2011')\n"
   ]
  },
  {
   "cell_type": "code",
   "execution_count": 15,
   "metadata": {},
   "outputs": [
    {
     "data": {
      "text/plain": [
       "(563, 10)"
      ]
     },
     "execution_count": 15,
     "metadata": {},
     "output_type": "execute_result"
    }
   ],
   "source": [
    "dfe6.shape"
   ]
  },
  {
   "cell_type": "markdown",
   "metadata": {},
   "source": [
    "### Take an exploratory look at the relationship between median household income and median gross rent YoY changes"
   ]
  },
  {
   "cell_type": "code",
   "execution_count": 374,
   "metadata": {},
   "outputs": [
    {
     "data": {
      "text/plain": [
       "<matplotlib.axes._subplots.AxesSubplot at 0x13b71a7f0>"
      ]
     },
     "execution_count": 374,
     "metadata": {},
     "output_type": "execute_result"
    },
    {
     "data": {
      "image/png": "[encoded data removed]",
      "text/plain": [
       "<Figure size 576x576 with 1 Axes>"
      ]
     },
     "metadata": {
      "needs_background": "light"
     },
     "output_type": "display_data"
    }
   ],
   "source": [
    "dfe6.plot.scatter(x='%-∆-median-household-income-YoY', y='%-∆-median-gross-rent-YoY', grid=True, figsize=(8,8))"
   ]
  },
  {
   "cell_type": "code",
   "execution_count": 330,
   "metadata": {},
   "outputs": [
    {
     "data": {
      "text/html": [
       "<div>\n",
       "<style scoped>\n",
       "    .dataframe tbody tr th:only-of-type {\n",
       "        vertical-align: middle;\n",
       "    }\n",
       "\n",
       "    .dataframe tbody tr th {\n",
       "        vertical-align: top;\n",
       "    }\n",
       "\n",
       "    .dataframe thead th {\n",
       "        text-align: right;\n",
       "    }\n",
       "</style>\n",
       "<table border=\"1\" class=\"dataframe\">\n",
       "  <thead>\n",
       "    <tr style=\"text-align: right;\">\n",
       "      <th></th>\n",
       "      <th>%-∆-median-gross-rent-YoY</th>\n",
       "      <th>%-∆-eviction-rate-YoY</th>\n",
       "    </tr>\n",
       "  </thead>\n",
       "  <tbody>\n",
       "    <tr>\n",
       "      <th>count</th>\n",
       "      <td>563.000000</td>\n",
       "      <td>563.000000</td>\n",
       "    </tr>\n",
       "    <tr>\n",
       "      <th>mean</th>\n",
       "      <td>6.454951</td>\n",
       "      <td>-1.945748</td>\n",
       "    </tr>\n",
       "    <tr>\n",
       "      <th>std</th>\n",
       "      <td>7.632659</td>\n",
       "      <td>21.974647</td>\n",
       "    </tr>\n",
       "    <tr>\n",
       "      <th>min</th>\n",
       "      <td>-27.622842</td>\n",
       "      <td>-95.522388</td>\n",
       "    </tr>\n",
       "    <tr>\n",
       "      <th>25%</th>\n",
       "      <td>3.327228</td>\n",
       "      <td>-10.156951</td>\n",
       "    </tr>\n",
       "    <tr>\n",
       "      <th>50%</th>\n",
       "      <td>6.033789</td>\n",
       "      <td>0.000000</td>\n",
       "    </tr>\n",
       "    <tr>\n",
       "      <th>75%</th>\n",
       "      <td>8.868411</td>\n",
       "      <td>5.377174</td>\n",
       "    </tr>\n",
       "    <tr>\n",
       "      <th>max</th>\n",
       "      <td>72.340426</td>\n",
       "      <td>100.000000</td>\n",
       "    </tr>\n",
       "  </tbody>\n",
       "</table>\n",
       "</div>"
      ],
      "text/plain": [
       "       %-∆-median-gross-rent-YoY  %-∆-eviction-rate-YoY\n",
       "count                 563.000000             563.000000\n",
       "mean                    6.454951              -1.945748\n",
       "std                     7.632659              21.974647\n",
       "min                   -27.622842             -95.522388\n",
       "25%                     3.327228             -10.156951\n",
       "50%                     6.033789               0.000000\n",
       "75%                     8.868411               5.377174\n",
       "max                    72.340426             100.000000"
      ]
     },
     "execution_count": 330,
     "metadata": {},
     "output_type": "execute_result"
    }
   ],
   "source": [
    "# Describe dfre6 columns\n",
    "dfe6[['%-∆-median-gross-rent-YoY', '%-∆-eviction-rate-YoY']].describe()"
   ]
  },
  {
   "cell_type": "code",
   "execution_count": 85,
   "metadata": {},
   "outputs": [
    {
     "data": {
      "text/plain": [
       "count    65.000000\n",
       "mean      7.920021\n",
       "std       4.361280\n",
       "min      -3.369673\n",
       "25%       5.046481\n",
       "50%       7.540703\n",
       "75%      10.452962\n",
       "max      23.583934\n",
       "Name: median-gross-rent-YoY, dtype: float64"
      ]
     },
     "execution_count": 85,
     "metadata": {},
     "output_type": "execute_result"
    }
   ],
   "source": [
    "dfe6['median-gross-rent-YoY'].describe()"
   ]
  },
  {
   "cell_type": "code",
   "execution_count": 86,
   "metadata": {},
   "outputs": [
    {
     "data": {
      "text/plain": [
       "count    65.000000\n",
       "mean     -3.371042\n",
       "std      16.109430\n",
       "min     -94.736842\n",
       "25%      -6.060606\n",
       "50%      -1.190476\n",
       "75%       3.101920\n",
       "max      25.714286\n",
       "Name: eviction-rate-YoY, dtype: float64"
      ]
     },
     "execution_count": 86,
     "metadata": {},
     "output_type": "execute_result"
    }
   ],
   "source": [
    "dfe6['eviction-rate-YoY'].describe()"
   ]
  },
  {
   "cell_type": "markdown",
   "metadata": {},
   "source": [
    "### Move toward the quartiled graph with each of the quadrants set up below\n",
    "\n",
    "### Question: describe the frequency of occurrence and other general stats for cases in which %∆ median gross rent YoY was +/- and %∆ eviction rate YoY was +/-?"
   ]
  },
  {
   "cell_type": "markdown",
   "metadata": {},
   "source": [
    "### Quadrant 1"
   ]
  },
  {
   "cell_type": "code",
   "execution_count": 338,
   "metadata": {},
   "outputs": [
    {
     "name": "stderr",
     "output_type": "stream",
     "text": [
      "/anaconda3/lib/python3.7/site-packages/ipykernel_launcher.py:1: UserWarning: Boolean Series key will be reindexed to match DataFrame index.\n",
      "  \"\"\"Entry point for launching an IPython kernel.\n"
     ]
    }
   ],
   "source": [
    "dfe6_q1 = dfe6[dfe6['%-∆-eviction-rate-YoY'] >= 0][dfe6['%-∆-median-gross-rent-YoY'] < 0]\n",
    "# dfe6_q1.describe()"
   ]
  },
  {
   "cell_type": "code",
   "execution_count": 339,
   "metadata": {},
   "outputs": [
    {
     "data": {
      "text/html": [
       "<div>\n",
       "<style scoped>\n",
       "    .dataframe tbody tr th:only-of-type {\n",
       "        vertical-align: middle;\n",
       "    }\n",
       "\n",
       "    .dataframe tbody tr th {\n",
       "        vertical-align: top;\n",
       "    }\n",
       "\n",
       "    .dataframe thead th {\n",
       "        text-align: right;\n",
       "    }\n",
       "</style>\n",
       "<table border=\"1\" class=\"dataframe\">\n",
       "  <thead>\n",
       "    <tr style=\"text-align: right;\">\n",
       "      <th></th>\n",
       "      <th>%-∆-median-gross-rent-YoY</th>\n",
       "      <th>%-∆-eviction-rate-YoY</th>\n",
       "    </tr>\n",
       "  </thead>\n",
       "  <tbody>\n",
       "    <tr>\n",
       "      <th>count</th>\n",
       "      <td>23.000000</td>\n",
       "      <td>23.000000</td>\n",
       "    </tr>\n",
       "    <tr>\n",
       "      <th>mean</th>\n",
       "      <td>-6.328532</td>\n",
       "      <td>7.645103</td>\n",
       "    </tr>\n",
       "    <tr>\n",
       "      <th>std</th>\n",
       "      <td>7.861317</td>\n",
       "      <td>14.344970</td>\n",
       "    </tr>\n",
       "    <tr>\n",
       "      <th>min</th>\n",
       "      <td>-27.622842</td>\n",
       "      <td>0.000000</td>\n",
       "    </tr>\n",
       "    <tr>\n",
       "      <th>25%</th>\n",
       "      <td>-8.389279</td>\n",
       "      <td>0.000000</td>\n",
       "    </tr>\n",
       "    <tr>\n",
       "      <th>50%</th>\n",
       "      <td>-3.595506</td>\n",
       "      <td>2.185792</td>\n",
       "    </tr>\n",
       "    <tr>\n",
       "      <th>75%</th>\n",
       "      <td>-1.319929</td>\n",
       "      <td>6.101127</td>\n",
       "    </tr>\n",
       "    <tr>\n",
       "      <th>max</th>\n",
       "      <td>-0.137363</td>\n",
       "      <td>54.794521</td>\n",
       "    </tr>\n",
       "  </tbody>\n",
       "</table>\n",
       "</div>"
      ],
      "text/plain": [
       "       %-∆-median-gross-rent-YoY  %-∆-eviction-rate-YoY\n",
       "count                  23.000000              23.000000\n",
       "mean                   -6.328532               7.645103\n",
       "std                     7.861317              14.344970\n",
       "min                   -27.622842               0.000000\n",
       "25%                    -8.389279               0.000000\n",
       "50%                    -3.595506               2.185792\n",
       "75%                    -1.319929               6.101127\n",
       "max                    -0.137363              54.794521"
      ]
     },
     "execution_count": 339,
     "metadata": {},
     "output_type": "execute_result"
    }
   ],
   "source": [
    "dfe6_q1[['%-∆-median-gross-rent-YoY', '%-∆-eviction-rate-YoY']].describe()"
   ]
  },
  {
   "cell_type": "markdown",
   "metadata": {},
   "source": [
    "### Quadrant 2"
   ]
  },
  {
   "cell_type": "code",
   "execution_count": 341,
   "metadata": {},
   "outputs": [
    {
     "name": "stderr",
     "output_type": "stream",
     "text": [
      "/anaconda3/lib/python3.7/site-packages/ipykernel_launcher.py:1: UserWarning: Boolean Series key will be reindexed to match DataFrame index.\n",
      "  \"\"\"Entry point for launching an IPython kernel.\n"
     ]
    }
   ],
   "source": [
    "dfe6_q2 = dfe6[dfe6['%-∆-eviction-rate-YoY'] >= 0][dfe6['%-∆-median-gross-rent-YoY'] >= 0]\n"
   ]
  },
  {
   "cell_type": "code",
   "execution_count": 342,
   "metadata": {},
   "outputs": [
    {
     "data": {
      "text/html": [
       "<div>\n",
       "<style scoped>\n",
       "    .dataframe tbody tr th:only-of-type {\n",
       "        vertical-align: middle;\n",
       "    }\n",
       "\n",
       "    .dataframe tbody tr th {\n",
       "        vertical-align: top;\n",
       "    }\n",
       "\n",
       "    .dataframe thead th {\n",
       "        text-align: right;\n",
       "    }\n",
       "</style>\n",
       "<table border=\"1\" class=\"dataframe\">\n",
       "  <thead>\n",
       "    <tr style=\"text-align: right;\">\n",
       "      <th></th>\n",
       "      <th>%-∆-median-gross-rent-YoY</th>\n",
       "      <th>%-∆-eviction-rate-YoY</th>\n",
       "    </tr>\n",
       "  </thead>\n",
       "  <tbody>\n",
       "    <tr>\n",
       "      <th>count</th>\n",
       "      <td>276.000000</td>\n",
       "      <td>276.000000</td>\n",
       "    </tr>\n",
       "    <tr>\n",
       "      <th>mean</th>\n",
       "      <td>7.398456</td>\n",
       "      <td>11.152033</td>\n",
       "    </tr>\n",
       "    <tr>\n",
       "      <th>std</th>\n",
       "      <td>7.345263</td>\n",
       "      <td>17.288813</td>\n",
       "    </tr>\n",
       "    <tr>\n",
       "      <th>min</th>\n",
       "      <td>0.000000</td>\n",
       "      <td>0.000000</td>\n",
       "    </tr>\n",
       "    <tr>\n",
       "      <th>25%</th>\n",
       "      <td>4.010642</td>\n",
       "      <td>0.000000</td>\n",
       "    </tr>\n",
       "    <tr>\n",
       "      <th>50%</th>\n",
       "      <td>6.324232</td>\n",
       "      <td>5.158382</td>\n",
       "    </tr>\n",
       "    <tr>\n",
       "      <th>75%</th>\n",
       "      <td>9.127070</td>\n",
       "      <td>14.384010</td>\n",
       "    </tr>\n",
       "    <tr>\n",
       "      <th>max</th>\n",
       "      <td>72.340426</td>\n",
       "      <td>100.000000</td>\n",
       "    </tr>\n",
       "  </tbody>\n",
       "</table>\n",
       "</div>"
      ],
      "text/plain": [
       "       %-∆-median-gross-rent-YoY  %-∆-eviction-rate-YoY\n",
       "count                 276.000000             276.000000\n",
       "mean                    7.398456              11.152033\n",
       "std                     7.345263              17.288813\n",
       "min                     0.000000               0.000000\n",
       "25%                     4.010642               0.000000\n",
       "50%                     6.324232               5.158382\n",
       "75%                     9.127070              14.384010\n",
       "max                    72.340426             100.000000"
      ]
     },
     "execution_count": 342,
     "metadata": {},
     "output_type": "execute_result"
    }
   ],
   "source": [
    "dfe6_q2[['%-∆-median-gross-rent-YoY', '%-∆-eviction-rate-YoY']].describe()"
   ]
  },
  {
   "cell_type": "markdown",
   "metadata": {},
   "source": [
    "### Quadrant 3"
   ]
  },
  {
   "cell_type": "code",
   "execution_count": 344,
   "metadata": {},
   "outputs": [
    {
     "name": "stderr",
     "output_type": "stream",
     "text": [
      "/anaconda3/lib/python3.7/site-packages/ipykernel_launcher.py:1: UserWarning: Boolean Series key will be reindexed to match DataFrame index.\n",
      "  \"\"\"Entry point for launching an IPython kernel.\n"
     ]
    }
   ],
   "source": [
    "dfe6_q3 = dfe6[dfe6['%-∆-eviction-rate-YoY'] < 0][dfe6['%-∆-median-gross-rent-YoY'] < 0]\n"
   ]
  },
  {
   "cell_type": "code",
   "execution_count": 345,
   "metadata": {},
   "outputs": [
    {
     "data": {
      "text/html": [
       "<div>\n",
       "<style scoped>\n",
       "    .dataframe tbody tr th:only-of-type {\n",
       "        vertical-align: middle;\n",
       "    }\n",
       "\n",
       "    .dataframe tbody tr th {\n",
       "        vertical-align: top;\n",
       "    }\n",
       "\n",
       "    .dataframe thead th {\n",
       "        text-align: right;\n",
       "    }\n",
       "</style>\n",
       "<table border=\"1\" class=\"dataframe\">\n",
       "  <thead>\n",
       "    <tr style=\"text-align: right;\">\n",
       "      <th></th>\n",
       "      <th>%-∆-median-gross-rent-YoY</th>\n",
       "      <th>%-∆-eviction-rate-YoY</th>\n",
       "    </tr>\n",
       "  </thead>\n",
       "  <tbody>\n",
       "    <tr>\n",
       "      <th>count</th>\n",
       "      <td>18.000000</td>\n",
       "      <td>18.000000</td>\n",
       "    </tr>\n",
       "    <tr>\n",
       "      <th>mean</th>\n",
       "      <td>-4.660519</td>\n",
       "      <td>-15.044291</td>\n",
       "    </tr>\n",
       "    <tr>\n",
       "      <th>std</th>\n",
       "      <td>5.207397</td>\n",
       "      <td>15.045047</td>\n",
       "    </tr>\n",
       "    <tr>\n",
       "      <th>min</th>\n",
       "      <td>-17.273431</td>\n",
       "      <td>-46.292948</td>\n",
       "    </tr>\n",
       "    <tr>\n",
       "      <th>25%</th>\n",
       "      <td>-6.602533</td>\n",
       "      <td>-24.305556</td>\n",
       "    </tr>\n",
       "    <tr>\n",
       "      <th>50%</th>\n",
       "      <td>-2.883722</td>\n",
       "      <td>-8.768190</td>\n",
       "    </tr>\n",
       "    <tr>\n",
       "      <th>75%</th>\n",
       "      <td>-1.097211</td>\n",
       "      <td>-4.781171</td>\n",
       "    </tr>\n",
       "    <tr>\n",
       "      <th>max</th>\n",
       "      <td>-0.104822</td>\n",
       "      <td>-0.877193</td>\n",
       "    </tr>\n",
       "  </tbody>\n",
       "</table>\n",
       "</div>"
      ],
      "text/plain": [
       "       %-∆-median-gross-rent-YoY  %-∆-eviction-rate-YoY\n",
       "count                  18.000000              18.000000\n",
       "mean                   -4.660519             -15.044291\n",
       "std                     5.207397              15.045047\n",
       "min                   -17.273431             -46.292948\n",
       "25%                    -6.602533             -24.305556\n",
       "50%                    -2.883722              -8.768190\n",
       "75%                    -1.097211              -4.781171\n",
       "max                    -0.104822              -0.877193"
      ]
     },
     "execution_count": 345,
     "metadata": {},
     "output_type": "execute_result"
    }
   ],
   "source": [
    "dfe6_q3[['%-∆-median-gross-rent-YoY', '%-∆-eviction-rate-YoY']].describe()"
   ]
  },
  {
   "cell_type": "markdown",
   "metadata": {},
   "source": [
    "### Quadrant 4"
   ]
  },
  {
   "cell_type": "code",
   "execution_count": 346,
   "metadata": {},
   "outputs": [
    {
     "name": "stderr",
     "output_type": "stream",
     "text": [
      "/anaconda3/lib/python3.7/site-packages/ipykernel_launcher.py:1: UserWarning: Boolean Series key will be reindexed to match DataFrame index.\n",
      "  \"\"\"Entry point for launching an IPython kernel.\n"
     ]
    }
   ],
   "source": [
    "dfe6_q4 = dfe6[dfe6['%-∆-eviction-rate-YoY'] < 0][dfe6['%-∆-median-gross-rent-YoY'] >= 0]"
   ]
  },
  {
   "cell_type": "code",
   "execution_count": 347,
   "metadata": {},
   "outputs": [
    {
     "data": {
      "text/html": [
       "<div>\n",
       "<style scoped>\n",
       "    .dataframe tbody tr th:only-of-type {\n",
       "        vertical-align: middle;\n",
       "    }\n",
       "\n",
       "    .dataframe tbody tr th {\n",
       "        vertical-align: top;\n",
       "    }\n",
       "\n",
       "    .dataframe thead th {\n",
       "        text-align: right;\n",
       "    }\n",
       "</style>\n",
       "<table border=\"1\" class=\"dataframe\">\n",
       "  <thead>\n",
       "    <tr style=\"text-align: right;\">\n",
       "      <th></th>\n",
       "      <th>%-∆-median-gross-rent-YoY</th>\n",
       "      <th>%-∆-eviction-rate-YoY</th>\n",
       "    </tr>\n",
       "  </thead>\n",
       "  <tbody>\n",
       "    <tr>\n",
       "      <th>count</th>\n",
       "      <td>246.000000</td>\n",
       "      <td>246.000000</td>\n",
       "    </tr>\n",
       "    <tr>\n",
       "      <th>mean</th>\n",
       "      <td>7.404915</td>\n",
       "      <td>-16.579095</td>\n",
       "    </tr>\n",
       "    <tr>\n",
       "      <th>std</th>\n",
       "      <td>6.270373</td>\n",
       "      <td>17.563708</td>\n",
       "    </tr>\n",
       "    <tr>\n",
       "      <th>min</th>\n",
       "      <td>0.210970</td>\n",
       "      <td>-95.522388</td>\n",
       "    </tr>\n",
       "    <tr>\n",
       "      <th>25%</th>\n",
       "      <td>4.242948</td>\n",
       "      <td>-20.872394</td>\n",
       "    </tr>\n",
       "    <tr>\n",
       "      <th>50%</th>\n",
       "      <td>6.383853</td>\n",
       "      <td>-11.583184</td>\n",
       "    </tr>\n",
       "    <tr>\n",
       "      <th>75%</th>\n",
       "      <td>8.889968</td>\n",
       "      <td>-5.061948</td>\n",
       "    </tr>\n",
       "    <tr>\n",
       "      <th>max</th>\n",
       "      <td>52.803738</td>\n",
       "      <td>-0.161812</td>\n",
       "    </tr>\n",
       "  </tbody>\n",
       "</table>\n",
       "</div>"
      ],
      "text/plain": [
       "       %-∆-median-gross-rent-YoY  %-∆-eviction-rate-YoY\n",
       "count                 246.000000             246.000000\n",
       "mean                    7.404915             -16.579095\n",
       "std                     6.270373              17.563708\n",
       "min                     0.210970             -95.522388\n",
       "25%                     4.242948             -20.872394\n",
       "50%                     6.383853             -11.583184\n",
       "75%                     8.889968              -5.061948\n",
       "max                    52.803738              -0.161812"
      ]
     },
     "execution_count": 347,
     "metadata": {},
     "output_type": "execute_result"
    }
   ],
   "source": [
    "dfe6_q4[['%-∆-median-gross-rent-YoY', '%-∆-eviction-rate-YoY']].describe()"
   ]
  },
  {
   "cell_type": "markdown",
   "metadata": {},
   "source": [
    "### Create the plot and axes to map each of these 4 quadrants onto an axes\n",
    "### This will help visualize the 4 combinations of direction each of these variables can move (++, +-, -+, --)"
   ]
  },
  {
   "cell_type": "code",
   "execution_count": 348,
   "metadata": {
    "scrolled": false
   },
   "outputs": [
    {
     "data": {
      "image/png": "[encoded data removed]",
      "text/plain": [
       "<Figure size 720x720 with 4 Axes>"
      ]
     },
     "metadata": {
      "needs_background": "light"
     },
     "output_type": "display_data"
    }
   ],
   "source": [
    "# Create the plot with four windows and plot each quadrant\n",
    "fig_dfe6_q = plt.figure(figsize = (10,10))\n",
    "\n",
    "# Create the axes and map them to the subplots \n",
    "ax1 = fig_dfe6_q.add_subplot(2, 2, 1)\n",
    "ax2 = fig_dfe6_q.add_subplot(2, 2, 2)\n",
    "ax3 = fig_dfe6_q.add_subplot(2, 2, 3)\n",
    "ax4 = fig_dfe6_q.add_subplot(2, 2, 4)\n",
    "\n",
    "# Plot first axes scatterplot\n",
    "dfe6_q1.plot.scatter(x='%-∆-median-gross-rent-YoY', y='%-∆-eviction-rate-YoY', ax=ax1, legend=False, xticks=[-30,-20,-10,0], xlim=[-30,0], ylim=[0,100], grid=True)\n",
    "\n",
    "# Modify first axes for readibility\n",
    "ax1.xaxis.label.set_visible(False)\n",
    "ax1.get_xaxis().set_ticklabels([])\n",
    "\n",
    "# Plot second axes scatterplot\n",
    "dfe6_q2.plot.scatter(x='%-∆-median-gross-rent-YoY', y='%-∆-eviction-rate-YoY', ax=ax2, legend=False, xticks=[0,20,40,60], xlim=[0,60], ylim=[0,100], grid=True)\n",
    "\n",
    "# Modify first axes for readibility\n",
    "ax2.xaxis.label.set_visible(False)\n",
    "ax2.get_xaxis().set_ticklabels([])\n",
    "ax2.yaxis.label.set_visible(False)\n",
    "ax2.get_yaxis().set_ticklabels([])\n",
    "\n",
    "# Plot third axes scatterplot\n",
    "dfe6_q3.plot.scatter(x='%-∆-median-gross-rent-YoY', y='%-∆-eviction-rate-YoY', ax=ax3, legend=False, xticks=[-30,-20,-10,0], xlim=[-30,0], ylim=[-100,0], grid=True)\n",
    "\n",
    "# Plot fourth axes scatterplot\n",
    "dfe6_q4.plot.scatter(x='%-∆-median-gross-rent-YoY', y='%-∆-eviction-rate-YoY', ax=ax4, legend=False, xticks=[0,20,40,60], xlim=[0,60], ylim=[-100,0], grid=True)\n",
    "\n",
    "# Modify fourth axes for readibility\n",
    "ax4.yaxis.label.set_visible(False)\n",
    "ax4.get_yaxis().set_ticklabels([])\n",
    "\n",
    "# Change plot spacing between x- and y-axis\n",
    "fig_dfe6_q.subplots_adjust(hspace=0.05, wspace=0.05)\n",
    "# plt.title(\"Quadrants: 'Eviction Rate % Change YoY vs. Median Gross Rent % Change YoY, 2009-2011'\")\n"
   ]
  },
  {
   "cell_type": "markdown",
   "metadata": {},
   "source": [
    "### Create a dataframe identical to the one plotted above but with %∆ median household income included"
   ]
  },
  {
   "cell_type": "code",
   "execution_count": 19,
   "metadata": {
    "scrolled": false
   },
   "outputs": [
    {
     "name": "stderr",
     "output_type": "stream",
     "text": [
      "/anaconda3/lib/python3.7/site-packages/ipykernel_launcher.py:4: SettingWithCopyWarning: \n",
      "A value is trying to be set on a copy of a slice from a DataFrame.\n",
      "Try using .loc[row_indexer,col_indexer] = value instead\n",
      "\n",
      "See the caveats in the documentation: http://pandas.pydata.org/pandas-docs/stable/indexing.html#indexing-view-versus-copy\n",
      "  after removing the cwd from sys.path.\n",
      "/anaconda3/lib/python3.7/site-packages/ipykernel_launcher.py:5: SettingWithCopyWarning: \n",
      "A value is trying to be set on a copy of a slice from a DataFrame.\n",
      "Try using .loc[row_indexer,col_indexer] = value instead\n",
      "\n",
      "See the caveats in the documentation: http://pandas.pydata.org/pandas-docs/stable/indexing.html#indexing-view-versus-copy\n",
      "  \"\"\"\n",
      "/anaconda3/lib/python3.7/site-packages/ipykernel_launcher.py:6: SettingWithCopyWarning: \n",
      "A value is trying to be set on a copy of a slice from a DataFrame.\n",
      "Try using .loc[row_indexer,col_indexer] = value instead\n",
      "\n",
      "See the caveats in the documentation: http://pandas.pydata.org/pandas-docs/stable/indexing.html#indexing-view-versus-copy\n",
      "  \n"
     ]
    },
    {
     "data": {
      "text/plain": [
       "count    563.000000\n",
       "mean       3.142506\n",
       "std       13.853509\n",
       "min      -50.717910\n",
       "25%       -0.771613\n",
       "50%        1.738389\n",
       "75%        4.413827\n",
       "max      138.746715\n",
       "Name: median-household-income-YoY, dtype: float64"
      ]
     },
     "execution_count": 19,
     "metadata": {},
     "output_type": "execute_result"
    }
   ],
   "source": [
    "# Filter dataframe down to pop < 100,000 and our target years just like the analysis earlier\n",
    "dfe7 = dfe1[['year', 'name', 'parent-location', 'population', 'median-gross-rent', 'eviction-rate', 'median-household-income']]\n",
    "dfe8 = dfe7[(pd.notnull(dfe7['population'])) & (dfe7['population'] >= 100000)]\n",
    "dfe9 = dfe8[(dfe8.year == 2009) | (dfe8.year == 2010) | (dfe8.year == 2011)]\n",
    "\n",
    "# Add the %∆ YoY columns\n",
    "dfe9['median-gross-rent-YoY'] = dfe9['median-gross-rent'].pct_change() * 100\n",
    "dfe9['eviction-rate-YoY'] = dfe9['eviction-rate'].pct_change() * 100\n",
    "dfe9['median-household-income-YoY'] = dfe9['median-household-income'].pct_change() * 100\n",
    "\n",
    "# Filter out meaningless 2009 year data\n",
    "dfe10 = dfe9.loc[(dfe9.year > 2009) & (dfe9['eviction-rate-YoY'] <= 100), :]\n",
    "\n",
    "# dfe10.head()\n",
    "\n",
    "dfe10['median-household-income-YoY'].describe()\n",
    "# dfe10['median-household-income'].plot.hist(bins=50, figsize=(15,7), xticks=[-10, 0, 10], xlim=[-10, 10])\n",
    "\n"
   ]
  },
  {
   "cell_type": "markdown",
   "metadata": {},
   "source": [
    "### In the analysis, we'll want to categorize the %∆ median household income. Use these ranges and these labels to work toward getting that cut of data into the dataframe and then plotting this variable (point color) onto axes"
   ]
  },
  {
   "cell_type": "code",
   "execution_count": 21,
   "metadata": {},
   "outputs": [],
   "source": [
    "# These represent roughly the min, first quartile, second quartile, third quartile, and max from the description above\n",
    "ranges = [-51,-0.77,1.73,4.41,138.74]\n",
    "\n",
    "# Use these for the labels of the categories for %∆ median-household-income-YoY\n",
    "labels = ['< 25th Percentile - Very Poor','25th >< 50th Percentile - Poor',\\\n",
    "          '50th >< 75th Percentile - Good','> 75th Percentile - Very Good']"
   ]
  },
  {
   "cell_type": "code",
   "execution_count": 22,
   "metadata": {},
   "outputs": [
    {
     "name": "stderr",
     "output_type": "stream",
     "text": [
      "/anaconda3/lib/python3.7/site-packages/ipykernel_launcher.py:2: SettingWithCopyWarning: \n",
      "A value is trying to be set on a copy of a slice from a DataFrame.\n",
      "Try using .loc[row_indexer,col_indexer] = value instead\n",
      "\n",
      "See the caveats in the documentation: http://pandas.pydata.org/pandas-docs/stable/indexing.html#indexing-view-versus-copy\n",
      "  \n"
     ]
    },
    {
     "data": {
      "text/html": [
       "<div>\n",
       "<style scoped>\n",
       "    .dataframe tbody tr th:only-of-type {\n",
       "        vertical-align: middle;\n",
       "    }\n",
       "\n",
       "    .dataframe tbody tr th {\n",
       "        vertical-align: top;\n",
       "    }\n",
       "\n",
       "    .dataframe thead th {\n",
       "        text-align: right;\n",
       "    }\n",
       "</style>\n",
       "<table border=\"1\" class=\"dataframe\">\n",
       "  <thead>\n",
       "    <tr style=\"text-align: right;\">\n",
       "      <th></th>\n",
       "      <th>year</th>\n",
       "      <th>name</th>\n",
       "      <th>parent-location</th>\n",
       "      <th>population</th>\n",
       "      <th>median-gross-rent</th>\n",
       "      <th>eviction-rate</th>\n",
       "      <th>median-household-income</th>\n",
       "      <th>median-gross-rent-YoY</th>\n",
       "      <th>eviction-rate-YoY</th>\n",
       "      <th>median-household-income-YoY</th>\n",
       "      <th>median-household-income-YoY-categories</th>\n",
       "    </tr>\n",
       "  </thead>\n",
       "  <tbody>\n",
       "    <tr>\n",
       "      <th>826</th>\n",
       "      <td>2010</td>\n",
       "      <td>Birmingham</td>\n",
       "      <td>Alabama</td>\n",
       "      <td>212237.0</td>\n",
       "      <td>717.0</td>\n",
       "      <td>1.43</td>\n",
       "      <td>31467.0</td>\n",
       "      <td>6.696429</td>\n",
       "      <td>83.333333</td>\n",
       "      <td>-0.747540</td>\n",
       "      <td>25th &gt;&lt; 50th Percentile - Poor</td>\n",
       "    </tr>\n",
       "    <tr>\n",
       "      <th>827</th>\n",
       "      <td>2011</td>\n",
       "      <td>Birmingham</td>\n",
       "      <td>Alabama</td>\n",
       "      <td>212211.0</td>\n",
       "      <td>728.0</td>\n",
       "      <td>2.41</td>\n",
       "      <td>31061.0</td>\n",
       "      <td>1.534170</td>\n",
       "      <td>68.531469</td>\n",
       "      <td>-1.290241</td>\n",
       "      <td>&lt; 25th Percentile - Very Poor</td>\n",
       "    </tr>\n",
       "    <tr>\n",
       "      <th>4625</th>\n",
       "      <td>2010</td>\n",
       "      <td>Huntsville</td>\n",
       "      <td>Alabama</td>\n",
       "      <td>180105.0</td>\n",
       "      <td>705.0</td>\n",
       "      <td>2.61</td>\n",
       "      <td>48632.0</td>\n",
       "      <td>12.800000</td>\n",
       "      <td>-18.437500</td>\n",
       "      <td>2.421970</td>\n",
       "      <td>50th &gt;&lt; 75th Percentile - Good</td>\n",
       "    </tr>\n",
       "    <tr>\n",
       "      <th>4626</th>\n",
       "      <td>2011</td>\n",
       "      <td>Huntsville</td>\n",
       "      <td>Alabama</td>\n",
       "      <td>185594.0</td>\n",
       "      <td>733.0</td>\n",
       "      <td>2.24</td>\n",
       "      <td>48775.0</td>\n",
       "      <td>3.971631</td>\n",
       "      <td>-14.176245</td>\n",
       "      <td>0.294045</td>\n",
       "      <td>25th &gt;&lt; 50th Percentile - Poor</td>\n",
       "    </tr>\n",
       "    <tr>\n",
       "      <th>5980</th>\n",
       "      <td>2010</td>\n",
       "      <td>Mobile</td>\n",
       "      <td>Alabama</td>\n",
       "      <td>195111.0</td>\n",
       "      <td>746.0</td>\n",
       "      <td>2.59</td>\n",
       "      <td>38722.0</td>\n",
       "      <td>11.343284</td>\n",
       "      <td>-24.489796</td>\n",
       "      <td>7.061491</td>\n",
       "      <td>&gt; 75th Percentile - Very Good</td>\n",
       "    </tr>\n",
       "    <tr>\n",
       "      <th>5981</th>\n",
       "      <td>2011</td>\n",
       "      <td>Mobile</td>\n",
       "      <td>Alabama</td>\n",
       "      <td>194669.0</td>\n",
       "      <td>770.0</td>\n",
       "      <td>3.05</td>\n",
       "      <td>38776.0</td>\n",
       "      <td>3.217158</td>\n",
       "      <td>17.760618</td>\n",
       "      <td>0.139456</td>\n",
       "      <td>25th &gt;&lt; 50th Percentile - Poor</td>\n",
       "    </tr>\n",
       "    <tr>\n",
       "      <th>6031</th>\n",
       "      <td>2010</td>\n",
       "      <td>Montgomery</td>\n",
       "      <td>Alabama</td>\n",
       "      <td>205764.0</td>\n",
       "      <td>798.0</td>\n",
       "      <td>3.24</td>\n",
       "      <td>43390.0</td>\n",
       "      <td>10.526316</td>\n",
       "      <td>-28.476821</td>\n",
       "      <td>2.465404</td>\n",
       "      <td>50th &gt;&lt; 75th Percentile - Good</td>\n",
       "    </tr>\n",
       "    <tr>\n",
       "      <th>6032</th>\n",
       "      <td>2011</td>\n",
       "      <td>Montgomery</td>\n",
       "      <td>Alabama</td>\n",
       "      <td>202967.0</td>\n",
       "      <td>814.0</td>\n",
       "      <td>3.17</td>\n",
       "      <td>42927.0</td>\n",
       "      <td>2.005013</td>\n",
       "      <td>-2.160494</td>\n",
       "      <td>-1.067066</td>\n",
       "      <td>&lt; 25th Percentile - Very Poor</td>\n",
       "    </tr>\n",
       "    <tr>\n",
       "      <th>10166</th>\n",
       "      <td>2010</td>\n",
       "      <td>Anchorage</td>\n",
       "      <td>Alaska</td>\n",
       "      <td>291826.0</td>\n",
       "      <td>1104.0</td>\n",
       "      <td>NaN</td>\n",
       "      <td>76495.0</td>\n",
       "      <td>11.627907</td>\n",
       "      <td>0.000000</td>\n",
       "      <td>9.043349</td>\n",
       "      <td>&gt; 75th Percentile - Very Good</td>\n",
       "    </tr>\n",
       "    <tr>\n",
       "      <th>10167</th>\n",
       "      <td>2011</td>\n",
       "      <td>Anchorage</td>\n",
       "      <td>Alaska</td>\n",
       "      <td>299107.0</td>\n",
       "      <td>1197.0</td>\n",
       "      <td>NaN</td>\n",
       "      <td>78326.0</td>\n",
       "      <td>8.423913</td>\n",
       "      <td>0.000000</td>\n",
       "      <td>2.393620</td>\n",
       "      <td>50th &gt;&lt; 75th Percentile - Good</td>\n",
       "    </tr>\n",
       "    <tr>\n",
       "      <th>17092</th>\n",
       "      <td>2010</td>\n",
       "      <td>Chandler</td>\n",
       "      <td>Arizona</td>\n",
       "      <td>236123.0</td>\n",
       "      <td>1068.0</td>\n",
       "      <td>NaN</td>\n",
       "      <td>71171.0</td>\n",
       "      <td>4.296875</td>\n",
       "      <td>0.000000</td>\n",
       "      <td>1.076506</td>\n",
       "      <td>25th &gt;&lt; 50th Percentile - Poor</td>\n",
       "    </tr>\n",
       "    <tr>\n",
       "      <th>17093</th>\n",
       "      <td>2011</td>\n",
       "      <td>Chandler</td>\n",
       "      <td>Arizona</td>\n",
       "      <td>250202.0</td>\n",
       "      <td>1118.0</td>\n",
       "      <td>NaN</td>\n",
       "      <td>72695.0</td>\n",
       "      <td>4.681648</td>\n",
       "      <td>0.000000</td>\n",
       "      <td>2.141322</td>\n",
       "      <td>50th &gt;&lt; 75th Percentile - Good</td>\n",
       "    </tr>\n",
       "    <tr>\n",
       "      <th>18523</th>\n",
       "      <td>2010</td>\n",
       "      <td>Gilbert</td>\n",
       "      <td>Arizona</td>\n",
       "      <td>208453.0</td>\n",
       "      <td>1270.0</td>\n",
       "      <td>NaN</td>\n",
       "      <td>80121.0</td>\n",
       "      <td>4.183757</td>\n",
       "      <td>0.000000</td>\n",
       "      <td>0.250247</td>\n",
       "      <td>25th &gt;&lt; 50th Percentile - Poor</td>\n",
       "    </tr>\n",
       "    <tr>\n",
       "      <th>18524</th>\n",
       "      <td>2011</td>\n",
       "      <td>Gilbert</td>\n",
       "      <td>Arizona</td>\n",
       "      <td>230781.0</td>\n",
       "      <td>1275.0</td>\n",
       "      <td>NaN</td>\n",
       "      <td>82424.0</td>\n",
       "      <td>0.393701</td>\n",
       "      <td>0.000000</td>\n",
       "      <td>2.874402</td>\n",
       "      <td>50th &gt;&lt; 75th Percentile - Good</td>\n",
       "    </tr>\n",
       "    <tr>\n",
       "      <th>18557</th>\n",
       "      <td>2010</td>\n",
       "      <td>Glendale</td>\n",
       "      <td>Arizona</td>\n",
       "      <td>226721.0</td>\n",
       "      <td>857.0</td>\n",
       "      <td>NaN</td>\n",
       "      <td>50567.0</td>\n",
       "      <td>4.895961</td>\n",
       "      <td>0.000000</td>\n",
       "      <td>-3.584571</td>\n",
       "      <td>&lt; 25th Percentile - Very Poor</td>\n",
       "    </tr>\n",
       "  </tbody>\n",
       "</table>\n",
       "</div>"
      ],
      "text/plain": [
       "       year        name parent-location  population  median-gross-rent  \\\n",
       "826    2010  Birmingham         Alabama    212237.0              717.0   \n",
       "827    2011  Birmingham         Alabama    212211.0              728.0   \n",
       "4625   2010  Huntsville         Alabama    180105.0              705.0   \n",
       "4626   2011  Huntsville         Alabama    185594.0              733.0   \n",
       "5980   2010      Mobile         Alabama    195111.0              746.0   \n",
       "5981   2011      Mobile         Alabama    194669.0              770.0   \n",
       "6031   2010  Montgomery         Alabama    205764.0              798.0   \n",
       "6032   2011  Montgomery         Alabama    202967.0              814.0   \n",
       "10166  2010   Anchorage          Alaska    291826.0             1104.0   \n",
       "10167  2011   Anchorage          Alaska    299107.0             1197.0   \n",
       "17092  2010    Chandler         Arizona    236123.0             1068.0   \n",
       "17093  2011    Chandler         Arizona    250202.0             1118.0   \n",
       "18523  2010     Gilbert         Arizona    208453.0             1270.0   \n",
       "18524  2011     Gilbert         Arizona    230781.0             1275.0   \n",
       "18557  2010    Glendale         Arizona    226721.0              857.0   \n",
       "\n",
       "       eviction-rate  median-household-income  median-gross-rent-YoY  \\\n",
       "826             1.43                  31467.0               6.696429   \n",
       "827             2.41                  31061.0               1.534170   \n",
       "4625            2.61                  48632.0              12.800000   \n",
       "4626            2.24                  48775.0               3.971631   \n",
       "5980            2.59                  38722.0              11.343284   \n",
       "5981            3.05                  38776.0               3.217158   \n",
       "6031            3.24                  43390.0              10.526316   \n",
       "6032            3.17                  42927.0               2.005013   \n",
       "10166            NaN                  76495.0              11.627907   \n",
       "10167            NaN                  78326.0               8.423913   \n",
       "17092            NaN                  71171.0               4.296875   \n",
       "17093            NaN                  72695.0               4.681648   \n",
       "18523            NaN                  80121.0               4.183757   \n",
       "18524            NaN                  82424.0               0.393701   \n",
       "18557            NaN                  50567.0               4.895961   \n",
       "\n",
       "       eviction-rate-YoY  median-household-income-YoY  \\\n",
       "826            83.333333                    -0.747540   \n",
       "827            68.531469                    -1.290241   \n",
       "4625          -18.437500                     2.421970   \n",
       "4626          -14.176245                     0.294045   \n",
       "5980          -24.489796                     7.061491   \n",
       "5981           17.760618                     0.139456   \n",
       "6031          -28.476821                     2.465404   \n",
       "6032           -2.160494                    -1.067066   \n",
       "10166           0.000000                     9.043349   \n",
       "10167           0.000000                     2.393620   \n",
       "17092           0.000000                     1.076506   \n",
       "17093           0.000000                     2.141322   \n",
       "18523           0.000000                     0.250247   \n",
       "18524           0.000000                     2.874402   \n",
       "18557           0.000000                    -3.584571   \n",
       "\n",
       "      median-household-income-YoY-categories  \n",
       "826           25th >< 50th Percentile - Poor  \n",
       "827            < 25th Percentile - Very Poor  \n",
       "4625          50th >< 75th Percentile - Good  \n",
       "4626          25th >< 50th Percentile - Poor  \n",
       "5980           > 75th Percentile - Very Good  \n",
       "5981          25th >< 50th Percentile - Poor  \n",
       "6031          50th >< 75th Percentile - Good  \n",
       "6032           < 25th Percentile - Very Poor  \n",
       "10166          > 75th Percentile - Very Good  \n",
       "10167         50th >< 75th Percentile - Good  \n",
       "17092         25th >< 50th Percentile - Poor  \n",
       "17093         50th >< 75th Percentile - Good  \n",
       "18523         25th >< 50th Percentile - Poor  \n",
       "18524         50th >< 75th Percentile - Good  \n",
       "18557          < 25th Percentile - Very Poor  "
      ]
     },
     "execution_count": 22,
     "metadata": {},
     "output_type": "execute_result"
    }
   ],
   "source": [
    "# Cut the median-household-income-YoY variable into categories variable, median-household-income-YoY-categories\n",
    "dfe10['median-household-income-YoY-categories'] = pd.cut(dfe10['median-household-income-YoY'], ranges, labels=labels).astype('category')\n",
    "dfe10.head(15)\n"
   ]
  },
  {
   "cell_type": "markdown",
   "metadata": {},
   "source": [
    "### Again, our quadrants, but this time, including median-household-income-YoY"
   ]
  },
  {
   "cell_type": "markdown",
   "metadata": {},
   "source": [
    "### Quadrant 1"
   ]
  },
  {
   "cell_type": "code",
   "execution_count": 23,
   "metadata": {},
   "outputs": [
    {
     "name": "stderr",
     "output_type": "stream",
     "text": [
      "/anaconda3/lib/python3.7/site-packages/ipykernel_launcher.py:1: UserWarning: Boolean Series key will be reindexed to match DataFrame index.\n",
      "  \"\"\"Entry point for launching an IPython kernel.\n"
     ]
    }
   ],
   "source": [
    "dfe10_q1 = dfe10[dfe10['eviction-rate-YoY'] >= 0][dfe10['median-gross-rent-YoY'] < 0]"
   ]
  },
  {
   "cell_type": "code",
   "execution_count": 25,
   "metadata": {},
   "outputs": [
    {
     "data": {
      "text/html": [
       "<div>\n",
       "<style scoped>\n",
       "    .dataframe tbody tr th:only-of-type {\n",
       "        vertical-align: middle;\n",
       "    }\n",
       "\n",
       "    .dataframe tbody tr th {\n",
       "        vertical-align: top;\n",
       "    }\n",
       "\n",
       "    .dataframe thead th {\n",
       "        text-align: right;\n",
       "    }\n",
       "</style>\n",
       "<table border=\"1\" class=\"dataframe\">\n",
       "  <thead>\n",
       "    <tr style=\"text-align: right;\">\n",
       "      <th></th>\n",
       "      <th>median-gross-rent-YoY</th>\n",
       "      <th>eviction-rate-YoY</th>\n",
       "      <th>median-household-income-YoY</th>\n",
       "    </tr>\n",
       "  </thead>\n",
       "  <tbody>\n",
       "    <tr>\n",
       "      <th>count</th>\n",
       "      <td>23.000000</td>\n",
       "      <td>23.000000</td>\n",
       "      <td>23.000000</td>\n",
       "    </tr>\n",
       "    <tr>\n",
       "      <th>mean</th>\n",
       "      <td>-6.328532</td>\n",
       "      <td>7.645103</td>\n",
       "      <td>-7.702632</td>\n",
       "    </tr>\n",
       "    <tr>\n",
       "      <th>std</th>\n",
       "      <td>7.861317</td>\n",
       "      <td>14.344970</td>\n",
       "      <td>14.835858</td>\n",
       "    </tr>\n",
       "    <tr>\n",
       "      <th>min</th>\n",
       "      <td>-27.622842</td>\n",
       "      <td>0.000000</td>\n",
       "      <td>-50.717910</td>\n",
       "    </tr>\n",
       "    <tr>\n",
       "      <th>25%</th>\n",
       "      <td>-8.389279</td>\n",
       "      <td>0.000000</td>\n",
       "      <td>-7.856498</td>\n",
       "    </tr>\n",
       "    <tr>\n",
       "      <th>50%</th>\n",
       "      <td>-3.595506</td>\n",
       "      <td>2.185792</td>\n",
       "      <td>-4.137381</td>\n",
       "    </tr>\n",
       "    <tr>\n",
       "      <th>75%</th>\n",
       "      <td>-1.319929</td>\n",
       "      <td>6.101127</td>\n",
       "      <td>-0.724068</td>\n",
       "    </tr>\n",
       "    <tr>\n",
       "      <th>max</th>\n",
       "      <td>-0.137363</td>\n",
       "      <td>54.794521</td>\n",
       "      <td>11.087709</td>\n",
       "    </tr>\n",
       "  </tbody>\n",
       "</table>\n",
       "</div>"
      ],
      "text/plain": [
       "       median-gross-rent-YoY  eviction-rate-YoY  median-household-income-YoY\n",
       "count              23.000000          23.000000                    23.000000\n",
       "mean               -6.328532           7.645103                    -7.702632\n",
       "std                 7.861317          14.344970                    14.835858\n",
       "min               -27.622842           0.000000                   -50.717910\n",
       "25%                -8.389279           0.000000                    -7.856498\n",
       "50%                -3.595506           2.185792                    -4.137381\n",
       "75%                -1.319929           6.101127                    -0.724068\n",
       "max                -0.137363          54.794521                    11.087709"
      ]
     },
     "execution_count": 25,
     "metadata": {},
     "output_type": "execute_result"
    }
   ],
   "source": [
    "dfe10_q1[['median-gross-rent-YoY', 'eviction-rate-YoY', 'median-household-income-YoY']].describe()"
   ]
  },
  {
   "cell_type": "code",
   "execution_count": 26,
   "metadata": {},
   "outputs": [
    {
     "data": {
      "text/plain": [
       "median-household-income-YoY-categories\n",
       "< 25th Percentile - Very Poor     17\n",
       "25th >< 50th Percentile - Poor     3\n",
       "50th >< 75th Percentile - Good     1\n",
       "> 75th Percentile - Very Good      2\n",
       "Name: name, dtype: int64"
      ]
     },
     "execution_count": 26,
     "metadata": {},
     "output_type": "execute_result"
    }
   ],
   "source": [
    "dfe10_q1.groupby(by='median-household-income-YoY-categories').count()['name']"
   ]
  },
  {
   "cell_type": "markdown",
   "metadata": {},
   "source": [
    "### Quadrant 2"
   ]
  },
  {
   "cell_type": "code",
   "execution_count": 27,
   "metadata": {},
   "outputs": [
    {
     "name": "stderr",
     "output_type": "stream",
     "text": [
      "/anaconda3/lib/python3.7/site-packages/ipykernel_launcher.py:1: UserWarning: Boolean Series key will be reindexed to match DataFrame index.\n",
      "  \"\"\"Entry point for launching an IPython kernel.\n"
     ]
    }
   ],
   "source": [
    "dfe10_q2 = dfe10[dfe10['eviction-rate-YoY'] >= 0][dfe10['median-gross-rent-YoY'] >= 0]"
   ]
  },
  {
   "cell_type": "code",
   "execution_count": 28,
   "metadata": {
    "scrolled": true
   },
   "outputs": [
    {
     "data": {
      "text/html": [
       "<div>\n",
       "<style scoped>\n",
       "    .dataframe tbody tr th:only-of-type {\n",
       "        vertical-align: middle;\n",
       "    }\n",
       "\n",
       "    .dataframe tbody tr th {\n",
       "        vertical-align: top;\n",
       "    }\n",
       "\n",
       "    .dataframe thead th {\n",
       "        text-align: right;\n",
       "    }\n",
       "</style>\n",
       "<table border=\"1\" class=\"dataframe\">\n",
       "  <thead>\n",
       "    <tr style=\"text-align: right;\">\n",
       "      <th></th>\n",
       "      <th>median-gross-rent-YoY</th>\n",
       "      <th>eviction-rate-YoY</th>\n",
       "      <th>median-household-income-YoY</th>\n",
       "    </tr>\n",
       "  </thead>\n",
       "  <tbody>\n",
       "    <tr>\n",
       "      <th>count</th>\n",
       "      <td>276.000000</td>\n",
       "      <td>276.000000</td>\n",
       "      <td>276.000000</td>\n",
       "    </tr>\n",
       "    <tr>\n",
       "      <th>mean</th>\n",
       "      <td>7.398456</td>\n",
       "      <td>11.152033</td>\n",
       "      <td>3.943067</td>\n",
       "    </tr>\n",
       "    <tr>\n",
       "      <th>std</th>\n",
       "      <td>7.345263</td>\n",
       "      <td>17.288813</td>\n",
       "      <td>12.259397</td>\n",
       "    </tr>\n",
       "    <tr>\n",
       "      <th>min</th>\n",
       "      <td>0.000000</td>\n",
       "      <td>0.000000</td>\n",
       "      <td>-12.021470</td>\n",
       "    </tr>\n",
       "    <tr>\n",
       "      <th>25%</th>\n",
       "      <td>4.010642</td>\n",
       "      <td>0.000000</td>\n",
       "      <td>0.069742</td>\n",
       "    </tr>\n",
       "    <tr>\n",
       "      <th>50%</th>\n",
       "      <td>6.324232</td>\n",
       "      <td>5.158382</td>\n",
       "      <td>2.317159</td>\n",
       "    </tr>\n",
       "    <tr>\n",
       "      <th>75%</th>\n",
       "      <td>9.127070</td>\n",
       "      <td>14.384010</td>\n",
       "      <td>4.561693</td>\n",
       "    </tr>\n",
       "    <tr>\n",
       "      <th>max</th>\n",
       "      <td>72.340426</td>\n",
       "      <td>100.000000</td>\n",
       "      <td>138.746715</td>\n",
       "    </tr>\n",
       "  </tbody>\n",
       "</table>\n",
       "</div>"
      ],
      "text/plain": [
       "       median-gross-rent-YoY  eviction-rate-YoY  median-household-income-YoY\n",
       "count             276.000000         276.000000                   276.000000\n",
       "mean                7.398456          11.152033                     3.943067\n",
       "std                 7.345263          17.288813                    12.259397\n",
       "min                 0.000000           0.000000                   -12.021470\n",
       "25%                 4.010642           0.000000                     0.069742\n",
       "50%                 6.324232           5.158382                     2.317159\n",
       "75%                 9.127070          14.384010                     4.561693\n",
       "max                72.340426         100.000000                   138.746715"
      ]
     },
     "execution_count": 28,
     "metadata": {},
     "output_type": "execute_result"
    }
   ],
   "source": [
    "dfe10_q2[['median-gross-rent-YoY', 'eviction-rate-YoY', 'median-household-income-YoY']].describe()"
   ]
  },
  {
   "cell_type": "code",
   "execution_count": 29,
   "metadata": {},
   "outputs": [
    {
     "data": {
      "text/plain": [
       "median-household-income-YoY-categories\n",
       "< 25th Percentile - Very Poor     48\n",
       "25th >< 50th Percentile - Poor    71\n",
       "50th >< 75th Percentile - Good    80\n",
       "> 75th Percentile - Very Good     76\n",
       "Name: name, dtype: int64"
      ]
     },
     "execution_count": 29,
     "metadata": {},
     "output_type": "execute_result"
    }
   ],
   "source": [
    "dfe10_q2.groupby(by='median-household-income-YoY-categories').count()['name']"
   ]
  },
  {
   "cell_type": "markdown",
   "metadata": {},
   "source": [
    "### Quadrant 3"
   ]
  },
  {
   "cell_type": "code",
   "execution_count": 30,
   "metadata": {},
   "outputs": [
    {
     "name": "stderr",
     "output_type": "stream",
     "text": [
      "/anaconda3/lib/python3.7/site-packages/ipykernel_launcher.py:1: UserWarning: Boolean Series key will be reindexed to match DataFrame index.\n",
      "  \"\"\"Entry point for launching an IPython kernel.\n"
     ]
    }
   ],
   "source": [
    "dfe10_q3 = dfe10[dfe10['eviction-rate-YoY'] < 0][dfe10['median-gross-rent-YoY'] < 0]"
   ]
  },
  {
   "cell_type": "code",
   "execution_count": 31,
   "metadata": {},
   "outputs": [
    {
     "data": {
      "text/html": [
       "<div>\n",
       "<style scoped>\n",
       "    .dataframe tbody tr th:only-of-type {\n",
       "        vertical-align: middle;\n",
       "    }\n",
       "\n",
       "    .dataframe tbody tr th {\n",
       "        vertical-align: top;\n",
       "    }\n",
       "\n",
       "    .dataframe thead th {\n",
       "        text-align: right;\n",
       "    }\n",
       "</style>\n",
       "<table border=\"1\" class=\"dataframe\">\n",
       "  <thead>\n",
       "    <tr style=\"text-align: right;\">\n",
       "      <th></th>\n",
       "      <th>median-gross-rent-YoY</th>\n",
       "      <th>eviction-rate-YoY</th>\n",
       "      <th>median-household-income-YoY</th>\n",
       "    </tr>\n",
       "  </thead>\n",
       "  <tbody>\n",
       "    <tr>\n",
       "      <th>count</th>\n",
       "      <td>18.000000</td>\n",
       "      <td>18.000000</td>\n",
       "      <td>18.000000</td>\n",
       "    </tr>\n",
       "    <tr>\n",
       "      <th>mean</th>\n",
       "      <td>-4.660519</td>\n",
       "      <td>-15.044291</td>\n",
       "      <td>-7.258272</td>\n",
       "    </tr>\n",
       "    <tr>\n",
       "      <th>std</th>\n",
       "      <td>5.207397</td>\n",
       "      <td>15.045047</td>\n",
       "      <td>8.317511</td>\n",
       "    </tr>\n",
       "    <tr>\n",
       "      <th>min</th>\n",
       "      <td>-17.273431</td>\n",
       "      <td>-46.292948</td>\n",
       "      <td>-25.363137</td>\n",
       "    </tr>\n",
       "    <tr>\n",
       "      <th>25%</th>\n",
       "      <td>-6.602533</td>\n",
       "      <td>-24.305556</td>\n",
       "      <td>-10.652957</td>\n",
       "    </tr>\n",
       "    <tr>\n",
       "      <th>50%</th>\n",
       "      <td>-2.883722</td>\n",
       "      <td>-8.768190</td>\n",
       "      <td>-4.492995</td>\n",
       "    </tr>\n",
       "    <tr>\n",
       "      <th>75%</th>\n",
       "      <td>-1.097211</td>\n",
       "      <td>-4.781171</td>\n",
       "      <td>-3.260397</td>\n",
       "    </tr>\n",
       "    <tr>\n",
       "      <th>max</th>\n",
       "      <td>-0.104822</td>\n",
       "      <td>-0.877193</td>\n",
       "      <td>5.085306</td>\n",
       "    </tr>\n",
       "  </tbody>\n",
       "</table>\n",
       "</div>"
      ],
      "text/plain": [
       "       median-gross-rent-YoY  eviction-rate-YoY  median-household-income-YoY\n",
       "count              18.000000          18.000000                    18.000000\n",
       "mean               -4.660519         -15.044291                    -7.258272\n",
       "std                 5.207397          15.045047                     8.317511\n",
       "min               -17.273431         -46.292948                   -25.363137\n",
       "25%                -6.602533         -24.305556                   -10.652957\n",
       "50%                -2.883722          -8.768190                    -4.492995\n",
       "75%                -1.097211          -4.781171                    -3.260397\n",
       "max                -0.104822          -0.877193                     5.085306"
      ]
     },
     "execution_count": 31,
     "metadata": {},
     "output_type": "execute_result"
    }
   ],
   "source": [
    "dfe10_q3[['median-gross-rent-YoY', 'eviction-rate-YoY', 'median-household-income-YoY']].describe()"
   ]
  },
  {
   "cell_type": "code",
   "execution_count": 32,
   "metadata": {},
   "outputs": [
    {
     "data": {
      "text/plain": [
       "median-household-income-YoY-categories\n",
       "< 25th Percentile - Very Poor     16\n",
       "25th >< 50th Percentile - Poor     0\n",
       "50th >< 75th Percentile - Good     1\n",
       "> 75th Percentile - Very Good      1\n",
       "Name: name, dtype: int64"
      ]
     },
     "execution_count": 32,
     "metadata": {},
     "output_type": "execute_result"
    }
   ],
   "source": [
    "dfe10_q3.groupby(by='median-household-income-YoY-categories').count()['name']"
   ]
  },
  {
   "cell_type": "markdown",
   "metadata": {},
   "source": [
    "### Quadrant 4"
   ]
  },
  {
   "cell_type": "code",
   "execution_count": 33,
   "metadata": {},
   "outputs": [
    {
     "name": "stderr",
     "output_type": "stream",
     "text": [
      "/anaconda3/lib/python3.7/site-packages/ipykernel_launcher.py:1: UserWarning: Boolean Series key will be reindexed to match DataFrame index.\n",
      "  \"\"\"Entry point for launching an IPython kernel.\n"
     ]
    }
   ],
   "source": [
    "dfe10_q4 = dfe10[dfe10['eviction-rate-YoY'] < 0][dfe10['median-gross-rent-YoY'] >= 0]"
   ]
  },
  {
   "cell_type": "code",
   "execution_count": 34,
   "metadata": {},
   "outputs": [
    {
     "data": {
      "text/html": [
       "<div>\n",
       "<style scoped>\n",
       "    .dataframe tbody tr th:only-of-type {\n",
       "        vertical-align: middle;\n",
       "    }\n",
       "\n",
       "    .dataframe tbody tr th {\n",
       "        vertical-align: top;\n",
       "    }\n",
       "\n",
       "    .dataframe thead th {\n",
       "        text-align: right;\n",
       "    }\n",
       "</style>\n",
       "<table border=\"1\" class=\"dataframe\">\n",
       "  <thead>\n",
       "    <tr style=\"text-align: right;\">\n",
       "      <th></th>\n",
       "      <th>median-gross-rent-YoY</th>\n",
       "      <th>eviction-rate-YoY</th>\n",
       "      <th>median-household-income-YoY</th>\n",
       "    </tr>\n",
       "  </thead>\n",
       "  <tbody>\n",
       "    <tr>\n",
       "      <th>count</th>\n",
       "      <td>246.000000</td>\n",
       "      <td>246.000000</td>\n",
       "      <td>246.000000</td>\n",
       "    </tr>\n",
       "    <tr>\n",
       "      <th>mean</th>\n",
       "      <td>7.404915</td>\n",
       "      <td>-16.579095</td>\n",
       "      <td>4.019324</td>\n",
       "    </tr>\n",
       "    <tr>\n",
       "      <th>std</th>\n",
       "      <td>6.270373</td>\n",
       "      <td>17.563708</td>\n",
       "      <td>15.049800</td>\n",
       "    </tr>\n",
       "    <tr>\n",
       "      <th>min</th>\n",
       "      <td>0.210970</td>\n",
       "      <td>-95.522388</td>\n",
       "      <td>-10.502550</td>\n",
       "    </tr>\n",
       "    <tr>\n",
       "      <th>25%</th>\n",
       "      <td>4.242948</td>\n",
       "      <td>-20.872394</td>\n",
       "      <td>-0.724718</td>\n",
       "    </tr>\n",
       "    <tr>\n",
       "      <th>50%</th>\n",
       "      <td>6.383853</td>\n",
       "      <td>-11.583184</td>\n",
       "      <td>1.630742</td>\n",
       "    </tr>\n",
       "    <tr>\n",
       "      <th>75%</th>\n",
       "      <td>8.889968</td>\n",
       "      <td>-5.061948</td>\n",
       "      <td>4.278046</td>\n",
       "    </tr>\n",
       "    <tr>\n",
       "      <th>max</th>\n",
       "      <td>52.803738</td>\n",
       "      <td>-0.161812</td>\n",
       "      <td>135.146757</td>\n",
       "    </tr>\n",
       "  </tbody>\n",
       "</table>\n",
       "</div>"
      ],
      "text/plain": [
       "       median-gross-rent-YoY  eviction-rate-YoY  median-household-income-YoY\n",
       "count             246.000000         246.000000                   246.000000\n",
       "mean                7.404915         -16.579095                     4.019324\n",
       "std                 6.270373          17.563708                    15.049800\n",
       "min                 0.210970         -95.522388                   -10.502550\n",
       "25%                 4.242948         -20.872394                    -0.724718\n",
       "50%                 6.383853         -11.583184                     1.630742\n",
       "75%                 8.889968          -5.061948                     4.278046\n",
       "max                52.803738          -0.161812                   135.146757"
      ]
     },
     "execution_count": 34,
     "metadata": {},
     "output_type": "execute_result"
    }
   ],
   "source": [
    "dfe10_q4[['median-gross-rent-YoY', 'eviction-rate-YoY', 'median-household-income-YoY']].describe()"
   ]
  },
  {
   "cell_type": "code",
   "execution_count": 35,
   "metadata": {},
   "outputs": [
    {
     "data": {
      "text/plain": [
       "median-household-income-YoY-categories\n",
       "< 25th Percentile - Very Poor     60\n",
       "25th >< 50th Percentile - Poor    66\n",
       "50th >< 75th Percentile - Good    59\n",
       "> 75th Percentile - Very Good     61\n",
       "Name: name, dtype: int64"
      ]
     },
     "execution_count": 35,
     "metadata": {},
     "output_type": "execute_result"
    }
   ],
   "source": [
    "dfe10_q4.groupby(by='median-household-income-YoY-categories').count()['name']"
   ]
  },
  {
   "cell_type": "markdown",
   "metadata": {},
   "source": [
    "### -- Didn't end up using this, but a plot in seaborn --  "
   ]
  },
  {
   "cell_type": "code",
   "execution_count": 36,
   "metadata": {
    "scrolled": false
   },
   "outputs": [
    {
     "data": {
      "text/plain": [
       "<seaborn.axisgrid.PairGrid at 0x119c6dc18>"
      ]
     },
     "execution_count": 36,
     "metadata": {},
     "output_type": "execute_result"
    },
    {
     "data": {
      "image/png": "[encoded data removed]",
      "text/plain": [
       "<Figure size 578.578x360 with 1 Axes>"
      ]
     },
     "metadata": {
      "needs_background": "light"
     },
     "output_type": "display_data"
    }
   ],
   "source": [
    "import seaborn as sns\n",
    "\n",
    "sns.pairplot(x_vars=['median-gross-rent-YoY'], y_vars=['eviction-rate-YoY'], data=dfe10, hue='median-household-income-YoY-categories', height=5)\n"
   ]
  },
  {
   "cell_type": "markdown",
   "metadata": {},
   "source": [
    "### Scatterplot identical to one above with just median-gross-rent-YoY and eviction-rate-YoY, but now it modified point color of median-household-income-YoY-categories based on their categorical values\n",
    "\n",
    "### Goal is to look at distribution of reds/greens across the four quadrants and also to look at eviction rate by median-household-income-YoY-categories"
   ]
  },
  {
   "cell_type": "code",
   "execution_count": 37,
   "metadata": {
    "scrolled": false
   },
   "outputs": [
    {
     "data": {
      "image/png": "[encoded data removed]",
      "text/plain": [
       "<Figure size 720x720 with 4 Axes>"
      ]
     },
     "metadata": {
      "needs_background": "light"
     },
     "output_type": "display_data"
    }
   ],
   "source": [
    "# Create the plot with four windows and plot each quadrant\n",
    "fig_dfe10_q = plt.figure(figsize = (10,10))\n",
    "\n",
    "# Map axes to subplots\n",
    "ax1 = fig_dfe10_q.add_subplot(2, 2, 1)\n",
    "ax2 = fig_dfe10_q.add_subplot(2, 2, 2)\n",
    "ax3 = fig_dfe10_q.add_subplot(2, 2, 3)\n",
    "ax4 = fig_dfe10_q.add_subplot(2, 2, 4)\n",
    "\n",
    "# Define variables\n",
    "var_1 = 'median-gross-rent-YoY'\n",
    "var_2 = 'eviction-rate-YoY'\n",
    "var_3 = 'median-household-income-YoY-categories'\n",
    "\n",
    "# Define labels and the colors I want them to be mapped as\n",
    "labels_colors = [('< 25th Percentile - Very Poor', '#990000'), ('25th >< 50th Percentile - Poor', '#ea9999'),\n",
    "                 ('50th >< 75th Percentile - Good', '#b6d7a8'), ('> 75th Percentile - Very Good', '#38761d')]\n",
    "\n",
    "# A short script that iterates through the labels_colors and through the axes and\n",
    "# plots each label/color on each axes as it itates through\n",
    "# The try/except structure is necessary because I need the program to continue even if there isn't a particular\n",
    "# label/color in a particular quadrant. Would raise ValueError otherwise. \n",
    "for l_c in labels_colors:\n",
    "    try:\n",
    "        dfe10_q1[dfe10_q1[var_3] == l_c[0]].plot.scatter(x=var_1, y=var_2, ax=ax1,\\\n",
    "                                                     xticks=[-30,-20,-10,0], xlim=[-30,0], ylim=[0,100],\\\n",
    "                                                     color=l_c[1], label=l_c[0], grid=True)\n",
    "    except ValueError:\n",
    "        continue\n",
    "    try:\n",
    "        dfe10_q2[dfe10_q2[var_3] == l_c[0]].plot.scatter(x=var_1, y=var_2, ax=ax2, legend=False, \\\n",
    "                                                     xticks=[0,20,40,60], xlim=[0,60], ylim=[0,100],\\\n",
    "                                                     color=l_c[1], label=l_c[0], grid=True)\n",
    "    except ValueError:\n",
    "        continue\n",
    "    try:\n",
    "        dfe10_q3[dfe10_q3[var_3] == l_c[0]].plot.scatter(x=var_1, y=var_2, ax=ax3, legend=False,\\\n",
    "                                                         xticks=[-30,-20,-10,0], xlim=[-30,0], ylim=[-100,0],\\\n",
    "                                                         color=l_c[1], label=l_c[0], grid=True)\n",
    "    except ValueError:\n",
    "        continue\n",
    "    try:\n",
    "        dfe10_q4[dfe10_q4[var_3] == l_c[0]].plot.scatter(x=var_1, y=var_2, ax=ax4, legend=False,\\\n",
    "                                                         xticks=[0,20,40,60], xlim=[0,60], ylim=[-100,0],\\\n",
    "                                                         color=l_c[1], label=l_c[0], grid=True)\n",
    "    except ValueError:\n",
    "        continue\n",
    "    \n",
    "\n",
    "# Mass modify the axes for readibility\n",
    "ax1.xaxis.label.set_visible(False)\n",
    "ax1.get_xaxis().set_ticklabels([])\n",
    "ax2.xaxis.label.set_visible(False)\n",
    "ax2.get_xaxis().set_ticklabels([])\n",
    "ax2.yaxis.label.set_visible(False)\n",
    "ax2.get_yaxis().set_ticklabels([])\n",
    "ax4.yaxis.label.set_visible(False)\n",
    "ax4.get_yaxis().set_ticklabels([])\n",
    "\n",
    "# Adjust axis spacing\n",
    "fig_dfe10_q.subplots_adjust(hspace=0.05, wspace=0.05)\n"
   ]
  },
  {
   "cell_type": "markdown",
   "metadata": {},
   "source": [
    "### One more graph in here based on dfe5\n",
    "### A line graph that shows the relationship between median gross rent and eviction rate over 2009-11"
   ]
  },
  {
   "cell_type": "code",
   "execution_count": 39,
   "metadata": {},
   "outputs": [
    {
     "data": {
      "text/html": [
       "<div>\n",
       "<style scoped>\n",
       "    .dataframe tbody tr th:only-of-type {\n",
       "        vertical-align: middle;\n",
       "    }\n",
       "\n",
       "    .dataframe tbody tr th {\n",
       "        vertical-align: top;\n",
       "    }\n",
       "\n",
       "    .dataframe thead th {\n",
       "        text-align: right;\n",
       "    }\n",
       "</style>\n",
       "<table border=\"1\" class=\"dataframe\">\n",
       "  <thead>\n",
       "    <tr style=\"text-align: right;\">\n",
       "      <th></th>\n",
       "      <th>year</th>\n",
       "      <th>population</th>\n",
       "      <th>median-household-income</th>\n",
       "      <th>median-gross-rent</th>\n",
       "      <th>eviction-rate</th>\n",
       "      <th>%-∆-median-gross-rent-YoY</th>\n",
       "      <th>%-∆-eviction-rate-YoY</th>\n",
       "      <th>%-∆-median-household-income-YoY</th>\n",
       "    </tr>\n",
       "  </thead>\n",
       "  <tbody>\n",
       "    <tr>\n",
       "      <th>count</th>\n",
       "      <td>860.000000</td>\n",
       "      <td>8.600000e+02</td>\n",
       "      <td>860.000000</td>\n",
       "      <td>860.000000</td>\n",
       "      <td>725.000000</td>\n",
       "      <td>859.000000</td>\n",
       "      <td>845.000000</td>\n",
       "      <td>859.000000</td>\n",
       "    </tr>\n",
       "    <tr>\n",
       "      <th>mean</th>\n",
       "      <td>2010.046512</td>\n",
       "      <td>3.028597e+05</td>\n",
       "      <td>52609.305814</td>\n",
       "      <td>974.394186</td>\n",
       "      <td>3.592910</td>\n",
       "      <td>1.275969</td>\n",
       "      <td>inf</td>\n",
       "      <td>2.164436</td>\n",
       "    </tr>\n",
       "    <tr>\n",
       "      <th>std</th>\n",
       "      <td>0.818969</td>\n",
       "      <td>5.944604e+05</td>\n",
       "      <td>16014.722290</td>\n",
       "      <td>262.244430</td>\n",
       "      <td>2.594985</td>\n",
       "      <td>15.211730</td>\n",
       "      <td>NaN</td>\n",
       "      <td>21.922975</td>\n",
       "    </tr>\n",
       "    <tr>\n",
       "      <th>min</th>\n",
       "      <td>2009.000000</td>\n",
       "      <td>1.000270e+05</td>\n",
       "      <td>25764.000000</td>\n",
       "      <td>540.000000</td>\n",
       "      <td>0.000000</td>\n",
       "      <td>-52.954676</td>\n",
       "      <td>-100.000000</td>\n",
       "      <td>-61.025137</td>\n",
       "    </tr>\n",
       "    <tr>\n",
       "      <th>25%</th>\n",
       "      <td>2009.000000</td>\n",
       "      <td>1.209138e+05</td>\n",
       "      <td>41846.000000</td>\n",
       "      <td>768.000000</td>\n",
       "      <td>1.660000</td>\n",
       "      <td>-3.407118</td>\n",
       "      <td>-12.000000</td>\n",
       "      <td>-3.195516</td>\n",
       "    </tr>\n",
       "    <tr>\n",
       "      <th>50%</th>\n",
       "      <td>2010.000000</td>\n",
       "      <td>1.681340e+05</td>\n",
       "      <td>49188.000000</td>\n",
       "      <td>916.500000</td>\n",
       "      <td>3.200000</td>\n",
       "      <td>4.539386</td>\n",
       "      <td>0.000000</td>\n",
       "      <td>1.434135</td>\n",
       "    </tr>\n",
       "    <tr>\n",
       "      <th>75%</th>\n",
       "      <td>2011.000000</td>\n",
       "      <td>2.586635e+05</td>\n",
       "      <td>60740.000000</td>\n",
       "      <td>1131.000000</td>\n",
       "      <td>4.940000</td>\n",
       "      <td>8.466730</td>\n",
       "      <td>12.473573</td>\n",
       "      <td>5.210103</td>\n",
       "    </tr>\n",
       "    <tr>\n",
       "      <th>max</th>\n",
       "      <td>2011.000000</td>\n",
       "      <td>8.426743e+06</td>\n",
       "      <td>114098.000000</td>\n",
       "      <td>1903.000000</td>\n",
       "      <td>17.150000</td>\n",
       "      <td>72.340426</td>\n",
       "      <td>inf</td>\n",
       "      <td>138.746715</td>\n",
       "    </tr>\n",
       "  </tbody>\n",
       "</table>\n",
       "</div>"
      ],
      "text/plain": [
       "              year    population  median-household-income  median-gross-rent  \\\n",
       "count   860.000000  8.600000e+02               860.000000         860.000000   \n",
       "mean   2010.046512  3.028597e+05             52609.305814         974.394186   \n",
       "std       0.818969  5.944604e+05             16014.722290         262.244430   \n",
       "min    2009.000000  1.000270e+05             25764.000000         540.000000   \n",
       "25%    2009.000000  1.209138e+05             41846.000000         768.000000   \n",
       "50%    2010.000000  1.681340e+05             49188.000000         916.500000   \n",
       "75%    2011.000000  2.586635e+05             60740.000000        1131.000000   \n",
       "max    2011.000000  8.426743e+06            114098.000000        1903.000000   \n",
       "\n",
       "       eviction-rate  %-∆-median-gross-rent-YoY  %-∆-eviction-rate-YoY  \\\n",
       "count     725.000000                 859.000000             845.000000   \n",
       "mean        3.592910                   1.275969                    inf   \n",
       "std         2.594985                  15.211730                    NaN   \n",
       "min         0.000000                 -52.954676            -100.000000   \n",
       "25%         1.660000                  -3.407118             -12.000000   \n",
       "50%         3.200000                   4.539386               0.000000   \n",
       "75%         4.940000                   8.466730              12.473573   \n",
       "max        17.150000                  72.340426                    inf   \n",
       "\n",
       "       %-∆-median-household-income-YoY  \n",
       "count                       859.000000  \n",
       "mean                          2.164436  \n",
       "std                          21.922975  \n",
       "min                         -61.025137  \n",
       "25%                          -3.195516  \n",
       "50%                           1.434135  \n",
       "75%                           5.210103  \n",
       "max                         138.746715  "
      ]
     },
     "execution_count": 39,
     "metadata": {},
     "output_type": "execute_result"
    }
   ],
   "source": [
    "dfe5.describe()"
   ]
  },
  {
   "cell_type": "code",
   "execution_count": 40,
   "metadata": {},
   "outputs": [
    {
     "data": {
      "text/html": [
       "<div>\n",
       "<style scoped>\n",
       "    .dataframe tbody tr th:only-of-type {\n",
       "        vertical-align: middle;\n",
       "    }\n",
       "\n",
       "    .dataframe tbody tr th {\n",
       "        vertical-align: top;\n",
       "    }\n",
       "\n",
       "    .dataframe thead th {\n",
       "        text-align: right;\n",
       "    }\n",
       "</style>\n",
       "<table border=\"1\" class=\"dataframe\">\n",
       "  <thead>\n",
       "    <tr style=\"text-align: right;\">\n",
       "      <th></th>\n",
       "      <th>population</th>\n",
       "      <th>median-gross-rent</th>\n",
       "      <th>eviction-rate</th>\n",
       "    </tr>\n",
       "    <tr>\n",
       "      <th>year</th>\n",
       "      <th></th>\n",
       "      <th></th>\n",
       "      <th></th>\n",
       "    </tr>\n",
       "  </thead>\n",
       "  <tbody>\n",
       "    <tr>\n",
       "      <th>2009</th>\n",
       "      <td>310981.249071</td>\n",
       "      <td>903.301115</td>\n",
       "      <td>3.667013</td>\n",
       "    </tr>\n",
       "    <tr>\n",
       "      <th>2010</th>\n",
       "      <td>302869.255319</td>\n",
       "      <td>981.145390</td>\n",
       "      <td>3.680248</td>\n",
       "    </tr>\n",
       "    <tr>\n",
       "      <th>2011</th>\n",
       "      <td>295780.656958</td>\n",
       "      <td>1030.122977</td>\n",
       "      <td>3.441111</td>\n",
       "    </tr>\n",
       "  </tbody>\n",
       "</table>\n",
       "</div>"
      ],
      "text/plain": [
       "         population  median-gross-rent  eviction-rate\n",
       "year                                                 \n",
       "2009  310981.249071         903.301115       3.667013\n",
       "2010  302869.255319         981.145390       3.680248\n",
       "2011  295780.656958        1030.122977       3.441111"
      ]
     },
     "execution_count": 40,
     "metadata": {},
     "output_type": "execute_result"
    }
   ],
   "source": [
    "# Take mean of each column each year and sort the values\n",
    "dfe5_year_mean = dfe5[['year', 'population', 'median-gross-rent', 'eviction-rate']].groupby(by='year').mean().sort_values('year')\n",
    "dfe5_year_mean"
   ]
  },
  {
   "cell_type": "markdown",
   "metadata": {},
   "source": [
    "### Plot the figure"
   ]
  },
  {
   "cell_type": "code",
   "execution_count": 368,
   "metadata": {},
   "outputs": [
    {
     "data": {
      "text/plain": [
       "Text(0,0.5,'eviction-rate')"
      ]
     },
     "execution_count": 368,
     "metadata": {},
     "output_type": "execute_result"
    },
    {
     "data": {
      "image/png": "[encoded data removed]",
      "text/plain": [
       "<Figure size 720x432 with 2 Axes>"
      ]
     },
     "metadata": {
      "needs_background": "light"
     },
     "output_type": "display_data"
    }
   ],
   "source": [
    "# create the figure\n",
    "fig_dfe5_year_mean = plt.figure(figsize = (10,6))\n",
    "\n",
    "# create the inital axes\n",
    "fig_dfe5_year_mean_ax1 = fig_dfe5_year_mean.add_subplot(1, 1, 1)\n",
    "\n",
    "\n",
    "# plot the first variable on the initial axes\n",
    "dfe5_year_mean['median-gross-rent'].plot(ax=fig_dfe5_year_mean_ax1, xticks=[2009, 2010, 2011], style='b-', grid=True)\n",
    "fig_dfe5_year_mean_ax1.set_ylabel('median-gross-rent')\n",
    "\n",
    "# create the second y-axis\n",
    "fig_dfe5_year_mean_ax2 = fig_dfe5_year_mean_ax1.twinx()\n",
    "fig_dfe5_year_mean_ax2.spines['right'].set_position(('axes', 1.0))\n",
    "dfe5_year_mean['eviction-rate'].plot(ax=fig_dfe5_year_mean_ax2, xticks=[2009, 2010, 2011], style='g-')\n",
    "\n",
    "# create the legend\n",
    "fig_dfe5_year_mean_ax1.legend([fig_dfe5_year_mean_ax1.get_lines()[0], fig_dfe5_year_mean_ax2.get_lines()[0]],\\\n",
    "           ['median-gross-rent','eviction-rate'], bbox_to_anchor=(0.15, 1.15))\n",
    "\n",
    "# Create the title and y-axis label\n",
    "plt.title('Median Gross Rent and Eviction Rate, 2009-2011')\n",
    "plt.ylabel('eviction-rate')"
   ]
  },
  {
   "cell_type": "markdown",
   "metadata": {},
   "source": [
    "### Scratch thinking"
   ]
  },
  {
   "cell_type": "code",
   "execution_count": null,
   "metadata": {},
   "outputs": [],
   "source": [
    "# Hypothesis 3: % ∆ YoY median gross rent varies directly with % ∆ YoY eviction rate\n",
    "# Finding: not supported in this data\n",
    "# Explanation: \n",
    "# Over this time period, we see that for most locations, median gross increased modestly (mean at 6.5% increase)\n",
    "# The eviction rate, however, didn't clearly vary directly with this increase in median rent\n",
    "# Instead, it dipped on average\n",
    "# Why?\n",
    "# Alternative hypothesis: rent is increasing because the economy is doing well during this period\n",
    "# With the economy doing well, fewer people are being evicted \n",
    "# You might actually expect to see the reverse trend:\n",
    "# More evictions went rental rates are decreasing assuming landlords are decreasing rent to keep tenants who are struggling to stay\n"
   ]
  },
  {
   "cell_type": "code",
   "execution_count": null,
   "metadata": {},
   "outputs": [],
   "source": [
    "# Becauase of limitations of median gross rent field\n",
    "# this plot limits its data to YoY % changes in eviction rate and median gross rent in 2010 and 2011\n",
    "# We only have data for changes in rent that fluctuate YoY consistently for 2009, 2010, and 2011\n",
    "# Because the median rent data is otherwise stagnant for multi-year increments of time\n",
    "\n",
    "# Here's another interesting framing of this question:\n",
    "# For all cases we have here, in how many cases did rent increase (what %)\n",
    "# For that set of cases (in which rent increased), in how many cases did evictions also increase? Decrease? %s?\n",
    "# These answers may shed some light on hypothesis 3\n",
    "# Another factor that might be worth considering...\n",
    "# Let's say that for 80% of cases in which median gross rent YoY increased, eviction rates also increased\n",
    "# (Meaning in 20% of cases, evictions decreased)\n",
    "# Does that lend more credibility to the idea that there's a direct relationship there?\n",
    "# To dig in further, would be worth investigating the relationship between YoY evictions rates and time\n",
    "# Were those eviction rates going up anyway?\n",
    "# Can't really do this, actually... It could obviously still be argued that if they are going up, they are because of rental rate increases\n"
   ]
  }
 ],
 "metadata": {
  "kernelspec": {
   "display_name": "Python 3",
   "language": "python",
   "name": "python3"
  },
  "language_info": {
   "codemirror_mode": {
    "name": "ipython",
    "version": 3
   },
   "file_extension": ".py",
   "mimetype": "text/x-python",
   "name": "python",
   "nbconvert_exporter": "python",
   "pygments_lexer": "ipython3",
   "version": "3.7.0"
  }
 },
 "nbformat": 4,
 "nbformat_minor": 2
}
